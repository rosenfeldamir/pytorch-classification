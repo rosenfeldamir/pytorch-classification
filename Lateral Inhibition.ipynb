{
 "cells": [
  {
   "cell_type": "code",
   "execution_count": 78,
   "metadata": {
    "collapsed": false
   },
   "outputs": [
    {
     "name": "stdout",
     "output_type": "stream",
     "text": [
      "Populating the interactive namespace from numpy and matplotlib\n",
      "9\n"
     ]
    }
   ],
   "source": [
    "%pylab inline\n",
    "import pandas as pd\n",
    "import seaborn as sns\n",
    "\n",
    "\n",
    "import os\n",
    "import pickle\n",
    "# compare running with  / without lateral inhibition\n",
    "epochs = 300\n",
    "n_options = 0\n",
    "names = []\n",
    "perfs = []\n",
    "n_gpus = 4\n",
    "cur_gpu = 0\n",
    "debug_me = False\n",
    "mode_ = 'local'\n",
    "cmds_group_gpus = dict((i,[]) for i in range(n_gpus))\n",
    "all_cmds = []\n",
    "for trial in range(1):\n",
    "    for lateral in ['default','none']:#' random']:\n",
    "        for let_inhibition_learn in [False,True]:\n",
    "            for the_arch in ['dense','wrn']:\n",
    "                for dataset in ['100','10']:\n",
    "                \n",
    "                    if lateral=='none' and let_inhibition_learn: \n",
    "                        # nothing to learn where there's no \"inhibition\"\n",
    "                        continue                    \n",
    "                    if the_arch == 'dense':\n",
    "                        curOutDir = '~/checkpoints/cifar{}_inhibition/densenet-bc-100-12-IN_{}_IL_{}-run_{}'\n",
    "                        epochs = 300\n",
    "                    elif the_arch == 'wrn':\n",
    "                        curOutDir = '~/checkpoints/cifar{}_inhibition/wrn-28-10-IN_{}_IL_{}-run_{}'\n",
    "                        epochs = 200\n",
    "                    else:\n",
    "                        raise Exception('unsupported arch',the_arch)\n",
    "                    if debug_me:\n",
    "                        epochs=1\n",
    "                    curOutDir = curOutDir.format(dataset,lateral,let_inhibition_learn,trial)\n",
    "                    ff = os.path.join(curOutDir,'log.txt')\n",
    " #                   print ff\n",
    "                    #print ff\n",
    "                    if mode_ == 'local' and os.path.isfile(os.path.expanduser(ff)):\n",
    "                        continue\n",
    "                    ff = os.path.expanduser(ff)\n",
    "                    if True and os.path.isfile(os.path.expanduser(ff)):\n",
    "                        #print 'dfgdf'\n",
    "                        names.append('{}_{}_{}_{}'.format(lateral,let_inhibition_learn,trial,'cifar'+dataset))\n",
    "                        p = []\n",
    "                        #print lateral, let_inhibition_learn\n",
    "                        lines = open(ff).readlines()\n",
    "                        #print len(lines)\n",
    "                        for k in lines[1:]:\n",
    "                            #print k\n",
    "                            p.append(float(k.split()[-1]))\n",
    "                        perfs.append(p)\n",
    "                        #print p[-1]\n",
    "                        print '!!!!!!!!!!!!!!'\n",
    "                        print len(lines)\n",
    "                        if len(lines)>=epochs+1:\n",
    "                            continue\n",
    "                        else:\n",
    "                            print len(lines)\n",
    "                    n_options+=1\n",
    "                    if the_arch == 'dense':\n",
    "                        cmd = 'python cifar.py -a densenet --depth 100 --growthRate 12\\\n",
    "                        --train-batch 64 --epochs {} --schedule 150 225 --wd 1e-4\\\n",
    "                        --gamma 0.1 --checkpoint {}\\\n",
    "                        --lateral-inhibition {} --learn-inhibition {} --dataset cifar{}'.format(epochs,curOutDir,lateral,\n",
    "                                                                             let_inhibition_learn,dataset)\n",
    "                    elif the_arch == 'wrn':\n",
    "\n",
    "                        #python cifar.py -a wrn --depth 28 --depth 28 --widen-factor 10 --drop 0.3 --epochs 200 --schedule 60 120 160 --wd 5e-4 --gamma 0.2 --checkpoint checkpoints/cifar10/WRN-28-10-drop\n",
    "\n",
    "                        cmd = 'python cifar.py -a wrn --depth 28 --widen-factor 10\\\n",
    "                        --drop 0.3 --epochs {} --schedule 60 120 260 --wd 5e-4\\\n",
    "                        --gamma 0.2 --checkpoint {}\\\n",
    "                        --lateral-inhibition {} --learn-inhibition {} --dataset cifar{} '.format(epochs,curOutDir,lateral,\n",
    "                                                                             let_inhibition_learn,dataset)\n",
    "\n",
    "                    #print cmd\n",
    "                    \n",
    "                    cmds_group_gpus[cur_gpu].append(cmd)\n",
    "                    cur_gpu+=1\n",
    "                    if cur_gpu == n_gpus:\n",
    "                        cur_gpu=0\n",
    "                    all_cmds.append(cmd)\n",
    "print n_options"
   ]
  },
  {
   "cell_type": "code",
   "execution_count": 79,
   "metadata": {
    "collapsed": false
   },
   "outputs": [],
   "source": [
    "def makeCommand(requiredFile,command):\n",
    "    #cmd=outPath = os.path.join(all_cmds[0].split()[-7],'log.txt')\n",
    "    cmd= \\\n",
    "    'FILE={} \\n \\\n",
    "    if [ -f $FILE ]; then \\n\\\n",
    "       echo \"File $FILE exists.\" \\n\\\n",
    "    else\\n\\\n",
    "       echo \"File $FILE does not exist.\" \\n\\\n",
    "       {} \\n \\\n",
    "    fi'.format(requiredFile,command)\n",
    "    return cmd"
   ]
  },
  {
   "cell_type": "code",
   "execution_count": 101,
   "metadata": {
    "collapsed": false
   },
   "outputs": [],
   "source": [
    "def chunks(l, n):\n",
    "    \"\"\"Yield successive n-sized chunks from l.\"\"\"\n",
    "    for i in range(0, len(l), n):\n",
    "        yield l[i:i + n]\n",
    "theChunks = chunks(all_cmds,int(ceil(float(len(all_cmds))/n_gpus)))\n",
    "#map(len,theChunks)"
   ]
  },
  {
   "cell_type": "code",
   "execution_count": 102,
   "metadata": {
    "collapsed": false
   },
   "outputs": [
    {
     "name": "stdout",
     "output_type": "stream",
     "text": [
      "( FILE=~/checkpoints/cifar100_inhibition/wrn-28-10-IN_default_IL_False-run_0 \n",
      "     if [ -f $FILE ]; then \n",
      "       echo \"File $FILE exists.\" \n",
      "    else\n",
      "       echo \"File $FILE does not exist.\" \n",
      "       python cifar.py -a wrn --depth 28 --widen-factor 10                        --drop 0.3 --epochs 200 --schedule 60 120 260 --wd 5e-4                        --gamma 0.2 --checkpoint ~/checkpoints/cifar100_inhibition/wrn-28-10-IN_default_IL_False-run_0                        --lateral-inhibition default --learn-inhibition False --dataset cifar100  --gpu_id 0 \n",
      "     fi  ; FILE=~/checkpoints/cifar10_inhibition/wrn-28-10-IN_default_IL_False-run_0 \n",
      "     if [ -f $FILE ]; then \n",
      "       echo \"File $FILE exists.\" \n",
      "    else\n",
      "       echo \"File $FILE does not exist.\" \n",
      "       python cifar.py -a wrn --depth 28 --widen-factor 10                        --drop 0.3 --epochs 200 --schedule 60 120 260 --wd 5e-4                        --gamma 0.2 --checkpoint ~/checkpoints/cifar10_inhibition/wrn-28-10-IN_default_IL_False-run_0                        --lateral-inhibition default --learn-inhibition False --dataset cifar10  --gpu_id 0 \n",
      "     fi  ; FILE=~/checkpoints/cifar100_inhibition/densenet-bc-100-12-IN_default_IL_True-run_0 \n",
      "     if [ -f $FILE ]; then \n",
      "       echo \"File $FILE exists.\" \n",
      "    else\n",
      "       echo \"File $FILE does not exist.\" \n",
      "       python cifar.py -a densenet --depth 100 --growthRate 12                        --train-batch 64 --epochs 300 --schedule 150 225 --wd 1e-4                        --gamma 0.1 --checkpoint ~/checkpoints/cifar100_inhibition/densenet-bc-100-12-IN_default_IL_True-run_0                        --lateral-inhibition default --learn-inhibition True --dataset cifar100 --gpu_id 0 \n",
      "     fi ) &\n",
      "( FILE=~/checkpoints/cifar10_inhibition/densenet-bc-100-12-IN_default_IL_True-run_0 \n",
      "     if [ -f $FILE ]; then \n",
      "       echo \"File $FILE exists.\" \n",
      "    else\n",
      "       echo \"File $FILE does not exist.\" \n",
      "       python cifar.py -a densenet --depth 100 --growthRate 12                        --train-batch 64 --epochs 300 --schedule 150 225 --wd 1e-4                        --gamma 0.1 --checkpoint ~/checkpoints/cifar10_inhibition/densenet-bc-100-12-IN_default_IL_True-run_0                        --lateral-inhibition default --learn-inhibition True --dataset cifar10 --gpu_id 1 \n",
      "     fi  ; FILE=~/checkpoints/cifar100_inhibition/wrn-28-10-IN_default_IL_True-run_0 \n",
      "     if [ -f $FILE ]; then \n",
      "       echo \"File $FILE exists.\" \n",
      "    else\n",
      "       echo \"File $FILE does not exist.\" \n",
      "       python cifar.py -a wrn --depth 28 --widen-factor 10                        --drop 0.3 --epochs 200 --schedule 60 120 260 --wd 5e-4                        --gamma 0.2 --checkpoint ~/checkpoints/cifar100_inhibition/wrn-28-10-IN_default_IL_True-run_0                        --lateral-inhibition default --learn-inhibition True --dataset cifar100  --gpu_id 1 \n",
      "     fi  ; FILE=~/checkpoints/cifar10_inhibition/wrn-28-10-IN_default_IL_True-run_0 \n",
      "     if [ -f $FILE ]; then \n",
      "       echo \"File $FILE exists.\" \n",
      "    else\n",
      "       echo \"File $FILE does not exist.\" \n",
      "       python cifar.py -a wrn --depth 28 --widen-factor 10                        --drop 0.3 --epochs 200 --schedule 60 120 260 --wd 5e-4                        --gamma 0.2 --checkpoint ~/checkpoints/cifar10_inhibition/wrn-28-10-IN_default_IL_True-run_0                        --lateral-inhibition default --learn-inhibition True --dataset cifar10  --gpu_id 1 \n",
      "     fi ) &\n",
      "( FILE=~/checkpoints/cifar100_inhibition/densenet-bc-100-12-IN_none_IL_False-run_0 \n",
      "     if [ -f $FILE ]; then \n",
      "       echo \"File $FILE exists.\" \n",
      "    else\n",
      "       echo \"File $FILE does not exist.\" \n",
      "       python cifar.py -a densenet --depth 100 --growthRate 12                        --train-batch 64 --epochs 300 --schedule 150 225 --wd 1e-4                        --gamma 0.1 --checkpoint ~/checkpoints/cifar100_inhibition/densenet-bc-100-12-IN_none_IL_False-run_0                        --lateral-inhibition none --learn-inhibition False --dataset cifar100 --gpu_id 2 \n",
      "     fi  ; FILE=~/checkpoints/cifar100_inhibition/wrn-28-10-IN_none_IL_False-run_0 \n",
      "     if [ -f $FILE ]; then \n",
      "       echo \"File $FILE exists.\" \n",
      "    else\n",
      "       echo \"File $FILE does not exist.\" \n",
      "       python cifar.py -a wrn --depth 28 --widen-factor 10                        --drop 0.3 --epochs 200 --schedule 60 120 260 --wd 5e-4                        --gamma 0.2 --checkpoint ~/checkpoints/cifar100_inhibition/wrn-28-10-IN_none_IL_False-run_0                        --lateral-inhibition none --learn-inhibition False --dataset cifar100  --gpu_id 2 \n",
      "     fi  ; FILE=~/checkpoints/cifar10_inhibition/wrn-28-10-IN_none_IL_False-run_0 \n",
      "     if [ -f $FILE ]; then \n",
      "       echo \"File $FILE exists.\" \n",
      "    else\n",
      "       echo \"File $FILE does not exist.\" \n",
      "       python cifar.py -a wrn --depth 28 --widen-factor 10                        --drop 0.3 --epochs 200 --schedule 60 120 260 --wd 5e-4                        --gamma 0.2 --checkpoint ~/checkpoints/cifar10_inhibition/wrn-28-10-IN_none_IL_False-run_0                        --lateral-inhibition none --learn-inhibition False --dataset cifar10  --gpu_id 2 \n",
      "     fi ) &\n"
     ]
    }
   ],
   "source": [
    "for i,chunk in enumerate(theChunks):\n",
    "    #chunk = chunk[:1]\n",
    "    print '(',\n",
    "    for ii,c in enumerate(chunk):\n",
    "        #c = 'touch {}'.format(str(ii).zfill(5))\\\n",
    "        \n",
    "        required_file = c.split()[-7]\n",
    "        command_stuff = '{} --gpu_id {}'.format(c,i)\n",
    "        cmd = makeCommand(required_file,command_stuff)\n",
    "        print cmd,\n",
    "        if ii < len(chunk)-1:\n",
    "            print ' ;',        \n",
    "    print ') &'"
   ]
  },
  {
   "cell_type": "code",
   "execution_count": 2,
   "metadata": {
    "collapsed": true
   },
   "outputs": [],
   "source": [
    "a = pickle.load(open('/home/amir/Downloads/results.pkl'))"
   ]
  },
  {
   "cell_type": "code",
   "execution_count": 3,
   "metadata": {
    "collapsed": false
   },
   "outputs": [
    {
     "data": {
      "text/plain": [
       "['let_inhibition_learn', 'lateral', 'dataset', 'trial', 'flines', 'arch']"
      ]
     },
     "execution_count": 3,
     "metadata": {},
     "output_type": "execute_result"
    }
   ],
   "source": [
    "a[0].keys()"
   ]
  },
  {
   "cell_type": "code",
   "execution_count": null,
   "metadata": {
    "collapsed": true
   },
   "outputs": [],
   "source": []
  },
  {
   "cell_type": "code",
   "execution_count": 38,
   "metadata": {
    "collapsed": false
   },
   "outputs": [
    {
     "data": {
      "image/png": "[encoded data removed]",
      "text/plain": [
       "<matplotlib.figure.Figure at 0x7f8b95cce950>"
      ]
     },
     "metadata": {},
     "output_type": "display_data"
    }
   ],
   "source": [
    "from StringIO import StringIO\n",
    "z = []\n",
    "for aa in a:\n",
    "    \n",
    "    theTable = L = '\\n'.join(map(str.strip,aa['flines']))\n",
    "    aa_table = pd.read_table(StringIO(L)).reset_index()\n",
    "    aa_table['arch']=aa['arch']\n",
    "    \n",
    "    #if aa['arch']=='dense':\n",
    "    #    continue\n",
    "    if aa['dataset']=='100':\n",
    "        continue\n",
    "    aa_table['let_inhibition_learn']=aa['let_inhibition_learn']\n",
    "    aa_table['let_inhibition_learn']=aa['let_inhibition_learn']\n",
    "    aa_table['lateral']=aa['lateral']\n",
    "    aa_table['dataset']=aa['dataset']\n",
    "    \n",
    "    z.append(aa_table[:25])\n",
    "    #z.append(aa_table)#[-50:])\n",
    "    #break\n",
    "    \n",
    "z = pd.concat(z)\n",
    "\n",
    "#g=sns.factorplot(data=z,x='index',y='Valid Acc.',col='dataset',hue='lateral')\n",
    "g=sns.factorplot(data=z,x='index',y='Valid Acc.',col='arch',hue='lateral')\n",
    "#(data=aa_table[::10],x='index',y='Valid Acc.',aspect=2)\n",
    "#g.set(xticklabels=[])\n",
    "#\n",
    "    "
   ]
  },
  {
   "cell_type": "code",
   "execution_count": 31,
   "metadata": {
    "collapsed": false
   },
   "outputs": [
    {
     "data": {
      "text/html": [
       "<div>\n",
       "<style scoped>\n",
       "    .dataframe tbody tr th:only-of-type {\n",
       "        vertical-align: middle;\n",
       "    }\n",
       "\n",
       "    .dataframe tbody tr th {\n",
       "        vertical-align: top;\n",
       "    }\n",
       "\n",
       "    .dataframe thead th {\n",
       "        text-align: right;\n",
       "    }\n",
       "</style>\n",
       "<table border=\"1\" class=\"dataframe\">\n",
       "  <thead>\n",
       "    <tr style=\"text-align: right;\">\n",
       "      <th></th>\n",
       "      <th></th>\n",
       "      <th></th>\n",
       "      <th>index</th>\n",
       "      <th>Learning Rate</th>\n",
       "      <th>Train Loss</th>\n",
       "      <th>Valid Loss</th>\n",
       "      <th>Train Acc.</th>\n",
       "      <th>Valid Acc.</th>\n",
       "      <th>arch</th>\n",
       "    </tr>\n",
       "    <tr>\n",
       "      <th>dataset</th>\n",
       "      <th>lateral</th>\n",
       "      <th>let_inhibition_learn</th>\n",
       "      <th></th>\n",
       "      <th></th>\n",
       "      <th></th>\n",
       "      <th></th>\n",
       "      <th></th>\n",
       "      <th></th>\n",
       "      <th></th>\n",
       "    </tr>\n",
       "  </thead>\n",
       "  <tbody>\n",
       "    <tr>\n",
       "      <th rowspan=\"3\" valign=\"top\">10</th>\n",
       "      <th rowspan=\"2\" valign=\"top\">default</th>\n",
       "      <th>False</th>\n",
       "      <td>24</td>\n",
       "      <td>0.1</td>\n",
       "      <td>1.477901</td>\n",
       "      <td>1.240327</td>\n",
       "      <td>87.624</td>\n",
       "      <td>84.56</td>\n",
       "      <td>wrn</td>\n",
       "    </tr>\n",
       "    <tr>\n",
       "      <th>True</th>\n",
       "      <td>24</td>\n",
       "      <td>0.1</td>\n",
       "      <td>1.337913</td>\n",
       "      <td>0.961783</td>\n",
       "      <td>91.156</td>\n",
       "      <td>88.69</td>\n",
       "      <td>dense</td>\n",
       "    </tr>\n",
       "    <tr>\n",
       "      <th>none</th>\n",
       "      <th>False</th>\n",
       "      <td>24</td>\n",
       "      <td>0.1</td>\n",
       "      <td>1.683257</td>\n",
       "      <td>1.495572</td>\n",
       "      <td>89.930</td>\n",
       "      <td>87.26</td>\n",
       "      <td>wrn</td>\n",
       "    </tr>\n",
       "    <tr>\n",
       "      <th rowspan=\"3\" valign=\"top\">100</th>\n",
       "      <th rowspan=\"2\" valign=\"top\">default</th>\n",
       "      <th>False</th>\n",
       "      <td>24</td>\n",
       "      <td>0.1</td>\n",
       "      <td>3.743640</td>\n",
       "      <td>3.323889</td>\n",
       "      <td>72.008</td>\n",
       "      <td>63.55</td>\n",
       "      <td>wrn</td>\n",
       "    </tr>\n",
       "    <tr>\n",
       "      <th>True</th>\n",
       "      <td>24</td>\n",
       "      <td>0.1</td>\n",
       "      <td>3.673698</td>\n",
       "      <td>3.191444</td>\n",
       "      <td>73.488</td>\n",
       "      <td>65.19</td>\n",
       "      <td>wrn</td>\n",
       "    </tr>\n",
       "    <tr>\n",
       "      <th>none</th>\n",
       "      <th>False</th>\n",
       "      <td>24</td>\n",
       "      <td>0.1</td>\n",
       "      <td>4.012393</td>\n",
       "      <td>3.998455</td>\n",
       "      <td>70.706</td>\n",
       "      <td>62.91</td>\n",
       "      <td>wrn</td>\n",
       "    </tr>\n",
       "  </tbody>\n",
       "</table>\n",
       "</div>"
      ],
      "text/plain": [
       "                                      index  Learning Rate  Train Loss  \\\n",
       "dataset lateral let_inhibition_learn                                     \n",
       "10      default False                    24            0.1    1.477901   \n",
       "                True                     24            0.1    1.337913   \n",
       "        none    False                    24            0.1    1.683257   \n",
       "100     default False                    24            0.1    3.743640   \n",
       "                True                     24            0.1    3.673698   \n",
       "        none    False                    24            0.1    4.012393   \n",
       "\n",
       "                                      Valid Loss  Train Acc.  Valid Acc.  \\\n",
       "dataset lateral let_inhibition_learn                                       \n",
       "10      default False                   1.240327      87.624       84.56   \n",
       "                True                    0.961783      91.156       88.69   \n",
       "        none    False                   1.495572      89.930       87.26   \n",
       "100     default False                   3.323889      72.008       63.55   \n",
       "                True                    3.191444      73.488       65.19   \n",
       "        none    False                   3.998455      70.706       62.91   \n",
       "\n",
       "                                       arch  \n",
       "dataset lateral let_inhibition_learn         \n",
       "10      default False                   wrn  \n",
       "                True                  dense  \n",
       "        none    False                   wrn  \n",
       "100     default False                   wrn  \n",
       "                True                    wrn  \n",
       "        none    False                   wrn  "
      ]
     },
     "execution_count": 31,
     "metadata": {},
     "output_type": "execute_result"
    }
   ],
   "source": [
    "#z.groupby(['dataset','lateral','let_inhibition_learn']).max()"
   ]
  },
  {
   "cell_type": "code",
   "execution_count": 150,
   "metadata": {
    "collapsed": false
   },
   "outputs": [
    {
     "data": {
      "text/plain": [
       "'0.100000\\t2.891201\\t2.842624\\t26.512000\\t28.330000\\t\\n'"
      ]
     },
     "execution_count": 150,
     "metadata": {},
     "output_type": "execute_result"
    }
   ],
   "source": [
    "\n",
    "a[0]['flines']"
   ]
  },
  {
   "cell_type": "code",
   "execution_count": 146,
   "metadata": {
    "collapsed": false
   },
   "outputs": [
    {
     "ename": "ValueError",
     "evalue": "Invalid file path or buffer object type: <type 'list'>",
     "output_type": "error",
     "traceback": [
      "\u001b[0;31m---------------------------------------------------------------------------\u001b[0m",
      "\u001b[0;31mValueError\u001b[0m                                Traceback (most recent call last)",
      "\u001b[0;32m<ipython-input-146-8d2cf7d7e905>\u001b[0m in \u001b[0;36m<module>\u001b[0;34m()\u001b[0m\n\u001b[0;32m----> 1\u001b[0;31m \u001b[0mpd\u001b[0m\u001b[0;34m.\u001b[0m\u001b[0mread_table\u001b[0m\u001b[0;34m(\u001b[0m\u001b[0ma\u001b[0m\u001b[0;34m[\u001b[0m\u001b[0;36m0\u001b[0m\u001b[0;34m]\u001b[0m\u001b[0;34m[\u001b[0m\u001b[0;34m'flines'\u001b[0m\u001b[0;34m]\u001b[0m\u001b[0;34m)\u001b[0m\u001b[0;34m\u001b[0m\u001b[0m\n\u001b[0m",
      "\u001b[0;32m/home/amir/anaconda3/envs/universe/lib/python2.7/site-packages/pandas/io/parsers.pyc\u001b[0m in \u001b[0;36mparser_f\u001b[0;34m(filepath_or_buffer, sep, delimiter, header, names, index_col, usecols, squeeze, prefix, mangle_dupe_cols, dtype, engine, converters, true_values, false_values, skipinitialspace, skiprows, nrows, na_values, keep_default_na, na_filter, verbose, skip_blank_lines, parse_dates, infer_datetime_format, keep_date_col, date_parser, dayfirst, iterator, chunksize, compression, thousands, decimal, lineterminator, quotechar, quoting, escapechar, comment, encoding, dialect, tupleize_cols, error_bad_lines, warn_bad_lines, skipfooter, skip_footer, doublequote, delim_whitespace, as_recarray, compact_ints, use_unsigned, low_memory, buffer_lines, memory_map, float_precision)\u001b[0m\n\u001b[1;32m    707\u001b[0m                     skip_blank_lines=skip_blank_lines)\n\u001b[1;32m    708\u001b[0m \u001b[0;34m\u001b[0m\u001b[0m\n\u001b[0;32m--> 709\u001b[0;31m         \u001b[0;32mreturn\u001b[0m \u001b[0m_read\u001b[0m\u001b[0;34m(\u001b[0m\u001b[0mfilepath_or_buffer\u001b[0m\u001b[0;34m,\u001b[0m \u001b[0mkwds\u001b[0m\u001b[0;34m)\u001b[0m\u001b[0;34m\u001b[0m\u001b[0m\n\u001b[0m\u001b[1;32m    710\u001b[0m \u001b[0;34m\u001b[0m\u001b[0m\n\u001b[1;32m    711\u001b[0m     \u001b[0mparser_f\u001b[0m\u001b[0;34m.\u001b[0m\u001b[0m__name__\u001b[0m \u001b[0;34m=\u001b[0m \u001b[0mname\u001b[0m\u001b[0;34m\u001b[0m\u001b[0m\n",
      "\u001b[0;32m/home/amir/anaconda3/envs/universe/lib/python2.7/site-packages/pandas/io/parsers.pyc\u001b[0m in \u001b[0;36m_read\u001b[0;34m(filepath_or_buffer, kwds)\u001b[0m\n\u001b[1;32m    431\u001b[0m     \u001b[0mcompression\u001b[0m \u001b[0;34m=\u001b[0m \u001b[0m_infer_compression\u001b[0m\u001b[0;34m(\u001b[0m\u001b[0mfilepath_or_buffer\u001b[0m\u001b[0;34m,\u001b[0m \u001b[0mcompression\u001b[0m\u001b[0;34m)\u001b[0m\u001b[0;34m\u001b[0m\u001b[0m\n\u001b[1;32m    432\u001b[0m     filepath_or_buffer, _, compression = get_filepath_or_buffer(\n\u001b[0;32m--> 433\u001b[0;31m         filepath_or_buffer, encoding, compression)\n\u001b[0m\u001b[1;32m    434\u001b[0m     \u001b[0mkwds\u001b[0m\u001b[0;34m[\u001b[0m\u001b[0;34m'compression'\u001b[0m\u001b[0;34m]\u001b[0m \u001b[0;34m=\u001b[0m \u001b[0mcompression\u001b[0m\u001b[0;34m\u001b[0m\u001b[0m\n\u001b[1;32m    435\u001b[0m \u001b[0;34m\u001b[0m\u001b[0m\n",
      "\u001b[0;32m/home/amir/anaconda3/envs/universe/lib/python2.7/site-packages/pandas/io/common.pyc\u001b[0m in \u001b[0;36mget_filepath_or_buffer\u001b[0;34m(filepath_or_buffer, encoding, compression)\u001b[0m\n\u001b[1;32m    209\u001b[0m     \u001b[0;32mif\u001b[0m \u001b[0;32mnot\u001b[0m \u001b[0mis_file_like\u001b[0m\u001b[0;34m(\u001b[0m\u001b[0mfilepath_or_buffer\u001b[0m\u001b[0;34m)\u001b[0m\u001b[0;34m:\u001b[0m\u001b[0;34m\u001b[0m\u001b[0m\n\u001b[1;32m    210\u001b[0m         \u001b[0mmsg\u001b[0m \u001b[0;34m=\u001b[0m \u001b[0;34m\"Invalid file path or buffer object type: {_type}\"\u001b[0m\u001b[0;34m\u001b[0m\u001b[0m\n\u001b[0;32m--> 211\u001b[0;31m         \u001b[0;32mraise\u001b[0m \u001b[0mValueError\u001b[0m\u001b[0;34m(\u001b[0m\u001b[0mmsg\u001b[0m\u001b[0;34m.\u001b[0m\u001b[0mformat\u001b[0m\u001b[0;34m(\u001b[0m\u001b[0m_type\u001b[0m\u001b[0;34m=\u001b[0m\u001b[0mtype\u001b[0m\u001b[0;34m(\u001b[0m\u001b[0mfilepath_or_buffer\u001b[0m\u001b[0;34m)\u001b[0m\u001b[0;34m)\u001b[0m\u001b[0;34m)\u001b[0m\u001b[0;34m\u001b[0m\u001b[0m\n\u001b[0m\u001b[1;32m    212\u001b[0m \u001b[0;34m\u001b[0m\u001b[0m\n\u001b[1;32m    213\u001b[0m     \u001b[0;32mreturn\u001b[0m \u001b[0mfilepath_or_buffer\u001b[0m\u001b[0;34m,\u001b[0m \u001b[0mNone\u001b[0m\u001b[0;34m,\u001b[0m \u001b[0mcompression\u001b[0m\u001b[0;34m\u001b[0m\u001b[0m\n",
      "\u001b[0;31mValueError\u001b[0m: Invalid file path or buffer object type: <type 'list'>"
     ]
    }
   ],
   "source": [
    "\n",
    "#pd.read_table(a[0]['flines'])"
   ]
  },
  {
   "cell_type": "code",
   "execution_count": 125,
   "metadata": {
    "collapsed": true
   },
   "outputs": [
    {
     "name": "stdout",
     "output_type": "stream",
     "text": [
      "( python cifar.py -a wrn --depth 28 --widen-factor 10                        --drop 0.3 --epochs 200 --schedule 60 120 260 --wd 5e-4                        --gamma 0.2 --checkpoint ~/checkpoints/cifar100_inhibition/wrn-28-10-IN_default_IL_False-run_0                        --lateral-inhibition default --learn-inhibition False --dataset cifar100  --gpu_id 0  ; python cifar.py -a wrn --depth 28 --widen-factor 10                        --drop 0.3 --epochs 200 --schedule 60 120 260 --wd 5e-4                        --gamma 0.2 --checkpoint ~/checkpoints/cifar10_inhibition/wrn-28-10-IN_default_IL_False-run_0                        --lateral-inhibition default --learn-inhibition False --dataset cifar10  --gpu_id 0  ; python cifar.py -a densenet --depth 100 --growthRate 12                        --train-batch 64 --epochs 300 --schedule 150 225 --wd 1e-4                        --gamma 0.1 --checkpoint ~/checkpoints/cifar100_inhibition/densenet-bc-100-12-IN_default_IL_True-run_0                        --lateral-inhibition default --learn-inhibition True --dataset cifar100 --gpu_id 0  ; python cifar.py -a densenet --depth 100 --growthRate 12                        --train-batch 64 --epochs 300 --schedule 150 225 --wd 1e-4                        --gamma 0.1 --checkpoint ~/checkpoints/cifar10_inhibition/densenet-bc-100-12-IN_default_IL_True-run_0                        --lateral-inhibition default --learn-inhibition True --dataset cifar10 --gpu_id 0  ; python cifar.py -a wrn --depth 28 --widen-factor 10                        --drop 0.3 --epochs 200 --schedule 60 120 260 --wd 5e-4                        --gamma 0.2 --checkpoint ~/checkpoints/cifar100_inhibition/wrn-28-10-IN_default_IL_True-run_0                        --lateral-inhibition default --learn-inhibition True --dataset cifar100  --gpu_id 0  ; python cifar.py -a wrn --depth 28 --widen-factor 10                        --drop 0.3 --epochs 200 --schedule 60 120 260 --wd 5e-4                        --gamma 0.2 --checkpoint ~/checkpoints/cifar10_inhibition/wrn-28-10-IN_default_IL_True-run_0                        --lateral-inhibition default --learn-inhibition True --dataset cifar10  --gpu_id 0  ; python cifar.py -a densenet --depth 100 --growthRate 12                        --train-batch 64 --epochs 300 --schedule 150 225 --wd 1e-4                        --gamma 0.1 --checkpoint ~/checkpoints/cifar100_inhibition/densenet-bc-100-12-IN_none_IL_False-run_0                        --lateral-inhibition none --learn-inhibition False --dataset cifar100 --gpu_id 0  ; python cifar.py -a wrn --depth 28 --widen-factor 10                        --drop 0.3 --epochs 200 --schedule 60 120 260 --wd 5e-4                        --gamma 0.2 --checkpoint ~/checkpoints/cifar100_inhibition/wrn-28-10-IN_none_IL_False-run_0                        --lateral-inhibition none --learn-inhibition False --dataset cifar100  --gpu_id 0  ; python cifar.py -a wrn --depth 28 --widen-factor 10                        --drop 0.3 --epochs 200 --schedule 60 120 260 --wd 5e-4                        --gamma 0.2 --checkpoint ~/checkpoints/cifar10_inhibition/wrn-28-10-IN_none_IL_False-run_0                        --lateral-inhibition none --learn-inhibition False --dataset cifar10  --gpu_id 0  ; python cifar.py -a densenet --depth 100 --growthRate 12                        --train-batch 64 --epochs 300 --schedule 150 225 --wd 1e-4                        --gamma 0.1 --checkpoint ~/checkpoints/cifar100_inhibition/densenet-bc-100-12-IN_default_IL_False-run_1                        --lateral-inhibition default --learn-inhibition False --dataset cifar100 --gpu_id 0  ; python cifar.py -a densenet --depth 100 --growthRate 12                        --train-batch 64 --epochs 300 --schedule 150 225 --wd 1e-4                        --gamma 0.1 --checkpoint ~/checkpoints/cifar10_inhibition/densenet-bc-100-12-IN_default_IL_False-run_1                        --lateral-inhibition default --learn-inhibition False --dataset cifar10 --gpu_id 0  ; python cifar.py -a wrn --depth 28 --widen-factor 10                        --drop 0.3 --epochs 200 --schedule 60 120 260 --wd 5e-4                        --gamma 0.2 --checkpoint ~/checkpoints/cifar100_inhibition/wrn-28-10-IN_default_IL_False-run_1                        --lateral-inhibition default --learn-inhibition False --dataset cifar100  --gpu_id 0  ; python cifar.py -a wrn --depth 28 --widen-factor 10                        --drop 0.3 --epochs 200 --schedule 60 120 260 --wd 5e-4                        --gamma 0.2 --checkpoint ~/checkpoints/cifar10_inhibition/wrn-28-10-IN_default_IL_False-run_1                        --lateral-inhibition default --learn-inhibition False --dataset cifar10  --gpu_id 0  ; python cifar.py -a densenet --depth 100 --growthRate 12                        --train-batch 64 --epochs 300 --schedule 150 225 --wd 1e-4                        --gamma 0.1 --checkpoint ~/checkpoints/cifar100_inhibition/densenet-bc-100-12-IN_default_IL_True-run_1                        --lateral-inhibition default --learn-inhibition True --dataset cifar100 --gpu_id 0 ) &\n",
      "( python cifar.py -a densenet --depth 100 --growthRate 12                        --train-batch 64 --epochs 300 --schedule 150 225 --wd 1e-4                        --gamma 0.1 --checkpoint ~/checkpoints/cifar10_inhibition/densenet-bc-100-12-IN_default_IL_True-run_1                        --lateral-inhibition default --learn-inhibition True --dataset cifar10 --gpu_id 1  ; python cifar.py -a wrn --depth 28 --widen-factor 10                        --drop 0.3 --epochs 200 --schedule 60 120 260 --wd 5e-4                        --gamma 0.2 --checkpoint ~/checkpoints/cifar100_inhibition/wrn-28-10-IN_default_IL_True-run_1                        --lateral-inhibition default --learn-inhibition True --dataset cifar100  --gpu_id 1  ; python cifar.py -a wrn --depth 28 --widen-factor 10                        --drop 0.3 --epochs 200 --schedule 60 120 260 --wd 5e-4                        --gamma 0.2 --checkpoint ~/checkpoints/cifar10_inhibition/wrn-28-10-IN_default_IL_True-run_1                        --lateral-inhibition default --learn-inhibition True --dataset cifar10  --gpu_id 1  ; python cifar.py -a densenet --depth 100 --growthRate 12                        --train-batch 64 --epochs 300 --schedule 150 225 --wd 1e-4                        --gamma 0.1 --checkpoint ~/checkpoints/cifar100_inhibition/densenet-bc-100-12-IN_none_IL_False-run_1                        --lateral-inhibition none --learn-inhibition False --dataset cifar100 --gpu_id 1  ; python cifar.py -a wrn --depth 28 --widen-factor 10                        --drop 0.3 --epochs 200 --schedule 60 120 260 --wd 5e-4                        --gamma 0.2 --checkpoint ~/checkpoints/cifar100_inhibition/wrn-28-10-IN_none_IL_False-run_1                        --lateral-inhibition none --learn-inhibition False --dataset cifar100  --gpu_id 1  ; python cifar.py -a wrn --depth 28 --widen-factor 10                        --drop 0.3 --epochs 200 --schedule 60 120 260 --wd 5e-4                        --gamma 0.2 --checkpoint ~/checkpoints/cifar10_inhibition/wrn-28-10-IN_none_IL_False-run_1                        --lateral-inhibition none --learn-inhibition False --dataset cifar10  --gpu_id 1  ; python cifar.py -a densenet --depth 100 --growthRate 12                        --train-batch 64 --epochs 300 --schedule 150 225 --wd 1e-4                        --gamma 0.1 --checkpoint ~/checkpoints/cifar100_inhibition/densenet-bc-100-12-IN_default_IL_False-run_2                        --lateral-inhibition default --learn-inhibition False --dataset cifar100 --gpu_id 1  ; python cifar.py -a densenet --depth 100 --growthRate 12                        --train-batch 64 --epochs 300 --schedule 150 225 --wd 1e-4                        --gamma 0.1 --checkpoint ~/checkpoints/cifar10_inhibition/densenet-bc-100-12-IN_default_IL_False-run_2                        --lateral-inhibition default --learn-inhibition False --dataset cifar10 --gpu_id 1  ; python cifar.py -a wrn --depth 28 --widen-factor 10                        --drop 0.3 --epochs 200 --schedule 60 120 260 --wd 5e-4                        --gamma 0.2 --checkpoint ~/checkpoints/cifar100_inhibition/wrn-28-10-IN_default_IL_False-run_2                        --lateral-inhibition default --learn-inhibition False --dataset cifar100  --gpu_id 1  ; python cifar.py -a wrn --depth 28 --widen-factor 10                        --drop 0.3 --epochs 200 --schedule 60 120 260 --wd 5e-4                        --gamma 0.2 --checkpoint ~/checkpoints/cifar10_inhibition/wrn-28-10-IN_default_IL_False-run_2                        --lateral-inhibition default --learn-inhibition False --dataset cifar10  --gpu_id 1  ; python cifar.py -a densenet --depth 100 --growthRate 12                        --train-batch 64 --epochs 300 --schedule 150 225 --wd 1e-4                        --gamma 0.1 --checkpoint ~/checkpoints/cifar100_inhibition/densenet-bc-100-12-IN_default_IL_True-run_2                        --lateral-inhibition default --learn-inhibition True --dataset cifar100 --gpu_id 1  ; python cifar.py -a densenet --depth 100 --growthRate 12                        --train-batch 64 --epochs 300 --schedule 150 225 --wd 1e-4                        --gamma 0.1 --checkpoint ~/checkpoints/cifar10_inhibition/densenet-bc-100-12-IN_default_IL_True-run_2                        --lateral-inhibition default --learn-inhibition True --dataset cifar10 --gpu_id 1  ; python cifar.py -a wrn --depth 28 --widen-factor 10                        --drop 0.3 --epochs 200 --schedule 60 120 260 --wd 5e-4                        --gamma 0.2 --checkpoint ~/checkpoints/cifar100_inhibition/wrn-28-10-IN_default_IL_True-run_2                        --lateral-inhibition default --learn-inhibition True --dataset cifar100  --gpu_id 1  ; python cifar.py -a wrn --depth 28 --widen-factor 10                        --drop 0.3 --epochs 200 --schedule 60 120 260 --wd 5e-4                        --gamma 0.2 --checkpoint ~/checkpoints/cifar10_inhibition/wrn-28-10-IN_default_IL_True-run_2                        --lateral-inhibition default --learn-inhibition True --dataset cifar10  --gpu_id 1 ) &\n",
      "( python cifar.py -a densenet --depth 100 --growthRate 12                        --train-batch 64 --epochs 300 --schedule 150 225 --wd 1e-4                        --gamma 0.1 --checkpoint ~/checkpoints/cifar100_inhibition/densenet-bc-100-12-IN_none_IL_False-run_2                        --lateral-inhibition none --learn-inhibition False --dataset cifar100 --gpu_id 2  ; python cifar.py -a densenet --depth 100 --growthRate 12                        --train-batch 64 --epochs 300 --schedule 150 225 --wd 1e-4                        --gamma 0.1 --checkpoint ~/checkpoints/cifar10_inhibition/densenet-bc-100-12-IN_none_IL_False-run_2                        --lateral-inhibition none --learn-inhibition False --dataset cifar10 --gpu_id 2  ; python cifar.py -a wrn --depth 28 --widen-factor 10                        --drop 0.3 --epochs 200 --schedule 60 120 260 --wd 5e-4                        --gamma 0.2 --checkpoint ~/checkpoints/cifar100_inhibition/wrn-28-10-IN_none_IL_False-run_2                        --lateral-inhibition none --learn-inhibition False --dataset cifar100  --gpu_id 2  ; python cifar.py -a wrn --depth 28 --widen-factor 10                        --drop 0.3 --epochs 200 --schedule 60 120 260 --wd 5e-4                        --gamma 0.2 --checkpoint ~/checkpoints/cifar10_inhibition/wrn-28-10-IN_none_IL_False-run_2                        --lateral-inhibition none --learn-inhibition False --dataset cifar10  --gpu_id 2  ; python cifar.py -a densenet --depth 100 --growthRate 12                        --train-batch 64 --epochs 300 --schedule 150 225 --wd 1e-4                        --gamma 0.1 --checkpoint ~/checkpoints/cifar100_inhibition/densenet-bc-100-12-IN_default_IL_False-run_3                        --lateral-inhibition default --learn-inhibition False --dataset cifar100 --gpu_id 2  ; python cifar.py -a densenet --depth 100 --growthRate 12                        --train-batch 64 --epochs 300 --schedule 150 225 --wd 1e-4                        --gamma 0.1 --checkpoint ~/checkpoints/cifar10_inhibition/densenet-bc-100-12-IN_default_IL_False-run_3                        --lateral-inhibition default --learn-inhibition False --dataset cifar10 --gpu_id 2  ; python cifar.py -a wrn --depth 28 --widen-factor 10                        --drop 0.3 --epochs 200 --schedule 60 120 260 --wd 5e-4                        --gamma 0.2 --checkpoint ~/checkpoints/cifar100_inhibition/wrn-28-10-IN_default_IL_False-run_3                        --lateral-inhibition default --learn-inhibition False --dataset cifar100  --gpu_id 2  ; python cifar.py -a wrn --depth 28 --widen-factor 10                        --drop 0.3 --epochs 200 --schedule 60 120 260 --wd 5e-4                        --gamma 0.2 --checkpoint ~/checkpoints/cifar10_inhibition/wrn-28-10-IN_default_IL_False-run_3                        --lateral-inhibition default --learn-inhibition False --dataset cifar10  --gpu_id 2  ; python cifar.py -a densenet --depth 100 --growthRate 12                        --train-batch 64 --epochs 300 --schedule 150 225 --wd 1e-4                        --gamma 0.1 --checkpoint ~/checkpoints/cifar100_inhibition/densenet-bc-100-12-IN_default_IL_True-run_3                        --lateral-inhibition default --learn-inhibition True --dataset cifar100 --gpu_id 2  ; python cifar.py -a densenet --depth 100 --growthRate 12                        --train-batch 64 --epochs 300 --schedule 150 225 --wd 1e-4                        --gamma 0.1 --checkpoint ~/checkpoints/cifar10_inhibition/densenet-bc-100-12-IN_default_IL_True-run_3                        --lateral-inhibition default --learn-inhibition True --dataset cifar10 --gpu_id 2  ; python cifar.py -a wrn --depth 28 --widen-factor 10                        --drop 0.3 --epochs 200 --schedule 60 120 260 --wd 5e-4                        --gamma 0.2 --checkpoint ~/checkpoints/cifar100_inhibition/wrn-28-10-IN_default_IL_True-run_3                        --lateral-inhibition default --learn-inhibition True --dataset cifar100  --gpu_id 2  ; python cifar.py -a wrn --depth 28 --widen-factor 10                        --drop 0.3 --epochs 200 --schedule 60 120 260 --wd 5e-4                        --gamma 0.2 --checkpoint ~/checkpoints/cifar10_inhibition/wrn-28-10-IN_default_IL_True-run_3                        --lateral-inhibition default --learn-inhibition True --dataset cifar10  --gpu_id 2  ; python cifar.py -a densenet --depth 100 --growthRate 12                        --train-batch 64 --epochs 300 --schedule 150 225 --wd 1e-4                        --gamma 0.1 --checkpoint ~/checkpoints/cifar100_inhibition/densenet-bc-100-12-IN_none_IL_False-run_3                        --lateral-inhibition none --learn-inhibition False --dataset cifar100 --gpu_id 2  ; python cifar.py -a densenet --depth 100 --growthRate 12                        --train-batch 64 --epochs 300 --schedule 150 225 --wd 1e-4                        --gamma 0.1 --checkpoint ~/checkpoints/cifar10_inhibition/densenet-bc-100-12-IN_none_IL_False-run_3                        --lateral-inhibition none --learn-inhibition False --dataset cifar10 --gpu_id 2 ) &\n",
      "( python cifar.py -a wrn --depth 28 --widen-factor 10                        --drop 0.3 --epochs 200 --schedule 60 120 260 --wd 5e-4                        --gamma 0.2 --checkpoint ~/checkpoints/cifar100_inhibition/wrn-28-10-IN_none_IL_False-run_3                        --lateral-inhibition none --learn-inhibition False --dataset cifar100  --gpu_id 3  ; python cifar.py -a wrn --depth 28 --widen-factor 10                        --drop 0.3 --epochs 200 --schedule 60 120 260 --wd 5e-4                        --gamma 0.2 --checkpoint ~/checkpoints/cifar10_inhibition/wrn-28-10-IN_none_IL_False-run_3                        --lateral-inhibition none --learn-inhibition False --dataset cifar10  --gpu_id 3  ; python cifar.py -a densenet --depth 100 --growthRate 12                        --train-batch 64 --epochs 300 --schedule 150 225 --wd 1e-4                        --gamma 0.1 --checkpoint ~/checkpoints/cifar100_inhibition/densenet-bc-100-12-IN_default_IL_False-run_4                        --lateral-inhibition default --learn-inhibition False --dataset cifar100 --gpu_id 3  ; python cifar.py -a densenet --depth 100 --growthRate 12                        --train-batch 64 --epochs 300 --schedule 150 225 --wd 1e-4                        --gamma 0.1 --checkpoint ~/checkpoints/cifar10_inhibition/densenet-bc-100-12-IN_default_IL_False-run_4                        --lateral-inhibition default --learn-inhibition False --dataset cifar10 --gpu_id 3  ; python cifar.py -a wrn --depth 28 --widen-factor 10                        --drop 0.3 --epochs 200 --schedule 60 120 260 --wd 5e-4                        --gamma 0.2 --checkpoint ~/checkpoints/cifar100_inhibition/wrn-28-10-IN_default_IL_False-run_4                        --lateral-inhibition default --learn-inhibition False --dataset cifar100  --gpu_id 3  ; python cifar.py -a wrn --depth 28 --widen-factor 10                        --drop 0.3 --epochs 200 --schedule 60 120 260 --wd 5e-4                        --gamma 0.2 --checkpoint ~/checkpoints/cifar10_inhibition/wrn-28-10-IN_default_IL_False-run_4                        --lateral-inhibition default --learn-inhibition False --dataset cifar10  --gpu_id 3  ; python cifar.py -a densenet --depth 100 --growthRate 12                        --train-batch 64 --epochs 300 --schedule 150 225 --wd 1e-4                        --gamma 0.1 --checkpoint ~/checkpoints/cifar100_inhibition/densenet-bc-100-12-IN_default_IL_True-run_4                        --lateral-inhibition default --learn-inhibition True --dataset cifar100 --gpu_id 3  ; python cifar.py -a densenet --depth 100 --growthRate 12                        --train-batch 64 --epochs 300 --schedule 150 225 --wd 1e-4                        --gamma 0.1 --checkpoint ~/checkpoints/cifar10_inhibition/densenet-bc-100-12-IN_default_IL_True-run_4                        --lateral-inhibition default --learn-inhibition True --dataset cifar10 --gpu_id 3  ; python cifar.py -a wrn --depth 28 --widen-factor 10                        --drop 0.3 --epochs 200 --schedule 60 120 260 --wd 5e-4                        --gamma 0.2 --checkpoint ~/checkpoints/cifar100_inhibition/wrn-28-10-IN_default_IL_True-run_4                        --lateral-inhibition default --learn-inhibition True --dataset cifar100  --gpu_id 3  ; python cifar.py -a wrn --depth 28 --widen-factor 10                        --drop 0.3 --epochs 200 --schedule 60 120 260 --wd 5e-4                        --gamma 0.2 --checkpoint ~/checkpoints/cifar10_inhibition/wrn-28-10-IN_default_IL_True-run_4                        --lateral-inhibition default --learn-inhibition True --dataset cifar10  --gpu_id 3  ; python cifar.py -a densenet --depth 100 --growthRate 12                        --train-batch 64 --epochs 300 --schedule 150 225 --wd 1e-4                        --gamma 0.1 --checkpoint ~/checkpoints/cifar100_inhibition/densenet-bc-100-12-IN_none_IL_False-run_4                        --lateral-inhibition none --learn-inhibition False --dataset cifar100 --gpu_id 3  ; python cifar.py -a densenet --depth 100 --growthRate 12                        --train-batch 64 --epochs 300 --schedule 150 225 --wd 1e-4                        --gamma 0.1 --checkpoint ~/checkpoints/cifar10_inhibition/densenet-bc-100-12-IN_none_IL_False-run_4                        --lateral-inhibition none --learn-inhibition False --dataset cifar10 --gpu_id 3  ; python cifar.py -a wrn --depth 28 --widen-factor 10                        --drop 0.3 --epochs 200 --schedule 60 120 260 --wd 5e-4                        --gamma 0.2 --checkpoint ~/checkpoints/cifar100_inhibition/wrn-28-10-IN_none_IL_False-run_4                        --lateral-inhibition none --learn-inhibition False --dataset cifar100  --gpu_id 3  ; python cifar.py -a wrn --depth 28 --widen-factor 10                        --drop 0.3 --epochs 200 --schedule 60 120 260 --wd 5e-4                        --gamma 0.2 --checkpoint ~/checkpoints/cifar10_inhibition/wrn-28-10-IN_none_IL_False-run_4                        --lateral-inhibition none --learn-inhibition False --dataset cifar10  --gpu_id 3 ) &\n"
     ]
    }
   ],
   "source": []
  },
  {
   "cell_type": "code",
   "execution_count": 117,
   "metadata": {
    "collapsed": false
   },
   "outputs": [
    {
     "name": "stdout",
     "output_type": "stream",
     "text": [
      "Populating the interactive namespace from numpy and matplotlib\n"
     ]
    }
   ],
   "source": [
    "%pylab inline\n",
    "\n"
   ]
  },
  {
   "cell_type": "code",
   "execution_count": 126,
   "metadata": {
    "collapsed": false
   },
   "outputs": [
    {
     "name": "stderr",
     "output_type": "stream",
     "text": [
      "/home/amir/anaconda3/envs/universe/lib/python2.7/site-packages/matplotlib/axes/_axes.py:545: UserWarning: No labelled objects found. Use label='...' kwarg on individual plots.\n",
      "  warnings.warn(\"No labelled objects found. \"\n"
     ]
    },
    {
     "data": {
      "image/png": "[encoded data removed]",
      "text/plain": [
       "<matplotlib.figure.Figure at 0x7f23d3398b90>"
      ]
     },
     "metadata": {},
     "output_type": "display_data"
    }
   ],
   "source": [
    "sns.set_palette(sns.color_palette(\"Set1\"))\n",
    "for n,p in zip(names,perfs):\n",
    "    #p=np.maximum.accumulate(p)\n",
    "    #if len(p) != epochs:\n",
    "    #    continue\n",
    "    z=0\n",
    "    plot(p[z:z+50],label=n)\n",
    "#ylim(90,96)\n",
    "legend()"
   ]
  },
  {
   "cell_type": "code",
   "execution_count": 204,
   "metadata": {
    "collapsed": false,
    "scrolled": true
   },
   "outputs": [
    {
     "data": {
      "text/plain": [
       "'python cifar.py -a densenet --depth 100 --growthRate 12        --train-batch 64 --epochs 10 --schedule 150 225 --wd 1e-4        --gamma 0.1 --checkpoint /home/amir/checkpoints/cifar10_inhibition/densenet-bc-100-12-IN_default-run_2        --lateral-inhibition default'"
      ]
     },
     "execution_count": 204,
     "metadata": {},
     "output_type": "execute_result"
    }
   ],
   "source": [
    "cmd"
   ]
  },
  {
   "cell_type": "code",
   "execution_count": 203,
   "metadata": {
    "collapsed": false
   },
   "outputs": [
    {
     "name": "stdout",
     "output_type": "stream",
     "text": [
      "/home/amir/checkpoints/cifar10_inhibition/densenet-bc-100-12-IN_default-run_2\n"
     ]
    }
   ],
   "source": [
    "print curOutDir"
   ]
  },
  {
   "cell_type": "code",
   "execution_count": 199,
   "metadata": {
    "collapsed": false
   },
   "outputs": [
    {
     "data": {
      "text/plain": [
       "'python cifar.py -a densenet --depth 100 --growthRate 12        --train-batch 64 --epochs 10 --schedule 150 225 --wd 1e-4        --gamma 0.1 --checkpoint default        --lateral-inhibition default'"
      ]
     },
     "execution_count": 199,
     "metadata": {},
     "output_type": "execute_result"
    }
   ],
   "source": [
    "cmd"
   ]
  },
  {
   "cell_type": "code",
   "execution_count": 110,
   "metadata": {
    "collapsed": false
   },
   "outputs": [],
   "source": [
    "# Pack X and Y into a single 3-dimensional array\n",
    "pos = np.empty(X.shape + (2,))\n",
    "pos[:, :, 0] = X\n",
    "pos[:, :, 1] = Y\n",
    "Z = z(X,Y)"
   ]
  },
  {
   "cell_type": "code",
   "execution_count": 98,
   "metadata": {
    "collapsed": false
   },
   "outputs": [],
   "source": [
    "Z = Z-Z.mean()"
   ]
  },
  {
   "cell_type": "code",
   "execution_count": null,
   "metadata": {
    "collapsed": true
   },
   "outputs": [],
   "source": [
    "# Let's define two gaussians."
   ]
  },
  {
   "cell_type": "code",
   "execution_count": 94,
   "metadata": {
    "collapsed": false
   },
   "outputs": [
    {
     "data": {
      "text/plain": [
       "0.025671842599306084"
      ]
     },
     "execution_count": 94,
     "metadata": {},
     "output_type": "execute_result"
    }
   ],
   "source": [
    "Z.sum()"
   ]
  },
  {
   "cell_type": "code",
   "execution_count": 109,
   "metadata": {
    "collapsed": false
   },
   "outputs": [
    {
     "data": {
      "text/plain": [
       "<matplotlib.image.AxesImage at 0x7f7e952a34d0>"
      ]
     },
     "execution_count": 109,
     "metadata": {},
     "output_type": "execute_result"
    },
    {
     "data": {
      "image/png": "[encoded data removed]",
      "text/plain": [
       "<matplotlib.figure.Figure at 0x7f7e95306410>"
      ]
     },
     "metadata": {},
     "output_type": "display_data"
    }
   ],
   "source": [
    "matshow(Z)"
   ]
  },
  {
   "cell_type": "code",
   "execution_count": 111,
   "metadata": {
    "collapsed": false
   },
   "outputs": [
    {
     "data": {
      "image/png": "[encoded data removed]",
      "text/plain": [
       "<matplotlib.figure.Figure at 0x7f7e952cec90>"
      ]
     },
     "metadata": {},
     "output_type": "display_data"
    }
   ],
   "source": [
    "fig = plt.figure()\n",
    "ax = fig.gca(projection='3d')\n",
    "ax.plot_surface(X, Y, Z, rstride=3, cstride=3, linewidth=1, antialiased=True,\n",
    "               cmap=cm.viridis)\n",
    "cset = ax.contourf(X, Y, Z, zdir='z', offset=-0.15, cmap=cm.viridis)\n",
    "\n",
    "# Adjust the limits, ticks and view angle\n",
    "ax.set_zlim(-0.15,0.2)\n",
    "ax.set_zticks(np.linspace(0,0.2,5))\n",
    "ax.view_init(27, -21)"
   ]
  },
  {
   "cell_type": "code",
   "execution_count": 59,
   "metadata": {
    "collapsed": false
   },
   "outputs": [
    {
     "data": {
      "text/plain": [
       "<mpl_toolkits.mplot3d.art3d.Poly3DCollection at 0x7f7ee37ff790>"
      ]
     },
     "execution_count": 59,
     "metadata": {},
     "output_type": "execute_result"
    }
   ],
   "source": []
  },
  {
   "cell_type": "code",
   "execution_count": 18,
   "metadata": {
    "collapsed": false
   },
   "outputs": [
    {
     "data": {
      "image/png": "[encoded data removed]",
      "text/plain": [
       "<matplotlib.figure.Figure at 0x7f7e950ebcd0>"
      ]
     },
     "metadata": {},
     "output_type": "display_data"
    }
   ],
   "source": [
    "# import numpy as np\n",
    "import matplotlib.pyplot as plt\n",
    "from matplotlib import cm\n",
    "from mpl_toolkits.mplot3d import Axes3D\n",
    "\n",
    "# Our 2-dimensional distribution will be over variables X and Y\n",
    "N = 60\n",
    "X = np.linspace(-3, 3, N)\n",
    "Y = np.linspace(-3, 3, N)\n",
    "X, Y = np.meshgrid(X, Y)\n",
    "\n",
    "# Mean vector and covariance matrix\n",
    "mu = np.array([0., 0.])\n",
    "Sigma = np.array([[ 1. , -0.5], [-0.5,  1.5]])\n",
    "\n",
    "# Pack X and Y into a single 3-dimensional array\n",
    "pos = np.empty(X.shape + (2,))\n",
    "pos[:, :, 0] = X\n",
    "pos[:, :, 1] = Y\n",
    "\n",
    "def multivariate_gaussian(pos, mu, Sigma):\n",
    "    \"\"\"Return the multivariate Gaussian distribution on array pos.\n",
    "\n",
    "    pos is an array constructed by packing the meshed arrays of variables\n",
    "    x_1, x_2, x_3, ..., x_k into its _last_ dimension.\n",
    "\n",
    "    \"\"\"\n",
    "\n",
    "    n = mu.shape[0]\n",
    "    Sigma_det = np.linalg.det(Sigma)\n",
    "    Sigma_inv = np.linalg.inv(Sigma)\n",
    "    N = np.sqrt((2*np.pi)**n * Sigma_det)\n",
    "    # This einsum call calculates (x-mu)T.Sigma-1.(x-mu) in a vectorized\n",
    "    # way across all the input variables.\n",
    "    fac = np.einsum('...k,kl,...l->...', pos-mu, Sigma_inv, pos-mu)\n",
    "\n",
    "    return np.exp(-fac / 2) / N\n",
    "\n",
    "# The distribution on the variables X, Y packed into pos.\n",
    "Z = multivariate_gaussian(pos, mu, Sigma)\n",
    "\n",
    "# Create a surface plot and projected filled contour plot under it.\n",
    "fig = plt.figure()\n",
    "ax = fig.gca(projection='3d')\n",
    "ax.plot_surface(X, Y, Z, rstride=3, cstride=3, linewidth=1, antialiased=True,\n",
    "                cmap=cm.viridis)\n",
    "\n",
    "cset = ax.contourf(X, Y, Z, zdir='z', offset=-0.15, cmap=cm.viridis)\n",
    "\n",
    "# Adjust the limits, ticks and view angle\n",
    "ax.set_zlim(-0.15,0.2)\n",
    "ax.set_zticks(np.linspace(0,0.2,5))\n",
    "ax.view_init(27, -21)\n",
    "\n",
    "plt.show()"
   ]
  },
  {
   "cell_type": "code",
   "execution_count": 8,
   "metadata": {
    "collapsed": true
   },
   "outputs": [],
   "source": [
    "!mkdir ca_frames"
   ]
  },
  {
   "cell_type": "code",
   "execution_count": 9,
   "metadata": {
    "collapsed": true
   },
   "outputs": [
    {
     "name": "stdout",
     "output_type": "stream",
     "text": [
      "0/400\n",
      "10/400\n",
      "20/400\n",
      "30/400\n",
      "40/400\n",
      "50/400\n",
      "60/400\n",
      "70/400\n",
      "80/400\n",
      "90/400\n",
      "100/400\n",
      "110/400\n",
      "120/400\n",
      "130/400\n",
      "140/400\n",
      "150/400\n",
      "160/400\n",
      "170/400\n",
      "180/400\n",
      "190/400\n",
      "200/400\n",
      "210/400\n",
      "220/400\n",
      "230/400\n",
      "240/400\n",
      "250/400\n",
      "260/400\n",
      "270/400\n",
      "280/400\n",
      "290/400\n",
      "300/400\n",
      "310/400\n",
      "320/400\n",
      "330/400\n",
      "340/400\n",
      "350/400\n",
      "360/400\n",
      "370/400\n",
      "380/400\n",
      "390/400\n"
     ]
    },
    {
     "data": {
      "image/png": "[encoded data removed]",
      "text/plain": [
       "<matplotlib.figure.Figure at 0x7f7e95122d10>"
      ]
     },
     "metadata": {},
     "output_type": "display_data"
    }
   ],
   "source": [
    "import numpy as np\n",
    "from scipy.signal import convolve2d\n",
    "import matplotlib.pyplot as plt\n",
    "\n",
    "def ca_step(X):\n",
    "    \"\"\"Evolve the maze by a single CA step.\"\"\"\n",
    "\n",
    "    K = np.ones((3, 3))\n",
    "    n = convolve2d(X, K, mode='same', boundary='wrap') - X\n",
    "    return (n == 3) | (X & ((n > 0) & (n < 6)))\n",
    "\n",
    "# Maze size\n",
    "nx, ny = 200, 150\n",
    "X = np.zeros((ny, nx), dtype=np.bool)\n",
    "# Size of initial random area (must be even numbers)\n",
    "mx, my = 20, 16\n",
    "\n",
    "# Initialize a patch with a random mx x my region\n",
    "r = np.random.random((my, mx)) > 0.75\n",
    "X[ny//2-my//2:ny//2+my//2, nx//2-mx//2:nx//2+mx//2] = r\n",
    "\n",
    "# Total number of iterations\n",
    "nit = 400\n",
    "# Make an image every ipf iterations\n",
    "ipf = 10\n",
    "\n",
    "# Figure dimensions (pixels) and resolution (dpi)\n",
    "width, height, dpi = 600, 450, 10\n",
    "fig = plt.figure(figsize=(width/dpi, height/dpi), dpi=dpi)\n",
    "ax = fig.add_subplot(111)\n",
    "\n",
    "for i in range(nit):\n",
    "    X = ca_step(X)\n",
    "    if not i % ipf:\n",
    "        print('{}/{}'.format(i,nit))\n",
    "        im = ax.imshow(X, cmap=plt.cm.binary, interpolation='nearest')\n",
    "        plt.axis('off')\n",
    "        plt.savefig('ca_frames/_img{:04d}.png'.format(i), dpi=dpi)\n",
    "        plt.cla()"
   ]
  }
 ],
 "metadata": {
  "anaconda-cloud": {},
  "kernelspec": {
   "display_name": "Python [conda env:universe]",
   "language": "python",
   "name": "conda-env-universe-py"
  },
  "language_info": {
   "codemirror_mode": {
    "name": "ipython",
    "version": 2
   },
   "file_extension": ".py",
   "mimetype": "text/x-python",
   "name": "python",
   "nbconvert_exporter": "python",
   "pygments_lexer": "ipython2",
   "version": "2.7.13"
  },
  "toc": {
   "colors": {
    "hover_highlight": "#DAA520",
    "running_highlight": "#FF0000",
    "selected_highlight": "#FFD700"
   },
   "moveMenuLeft": true,
   "nav_menu": {
    "height": "11px",
    "width": "252px"
   },
   "navigate_menu": true,
   "number_sections": true,
   "sideBar": true,
   "threshold": 4,
   "toc_cell": false,
   "toc_section_display": "block",
   "toc_window_display": false,
   "widenNotebook": false
  }
 },
 "nbformat": 4,
 "nbformat_minor": 1
}
