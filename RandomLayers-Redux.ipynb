{
 "cells": [
  {
   "cell_type": "code",
   "execution_count": 11,
   "metadata": {},
   "outputs": [],
   "source": [
    "import torch"
   ]
  },
  {
   "cell_type": "code",
   "execution_count": 12,
   "metadata": {
    "collapsed": false
   },
   "outputs": [
    {
     "name": "stdout",
     "output_type": "stream",
     "text": [
      "/home/amir/pytorch-classification\n"
     ]
    }
   ],
   "source": [
    "cd ~/pytorch-classification/"
   ]
  },
  {
   "cell_type": "markdown",
   "metadata": {},
   "source": [
    "# Slicing a filter along different dimensions.\n"
   ]
  },
  {
   "cell_type": "code",
   "execution_count": 13,
   "metadata": {
    "collapsed": false
   },
   "outputs": [
    {
     "name": "stdout",
     "output_type": "stream",
     "text": [
      "Populating the interactive namespace from numpy and matplotlib\n"
     ]
    }
   ],
   "source": [
    "import os\n",
    "%pylab inline\n",
    "import pandas as pd\n",
    "# Let's try to train a fraction of the parameters.\n",
    "#import os\n",
    "homedir = os.path.expanduser('~')\n",
    "\n",
    "def make_checkpoint_path(ckpt_base_dir,arch,frac,iter_,my_optimizer,subsample,kill_fixed,dataset='cifar10',train_only='train_all',\n",
    "                        learn_bn=True,dim_slice=0):\n",
    "    P = arch_to_name_prefix[arch]\n",
    "    checkpointPath = os.path.join(ckpt_base_dir,\n",
    "                                  '{f_arch}_{bb}_iter_{iter_}_opt_{opt}_subsample_{s}'.\n",
    "                                  format(f_arch=P,bb=frac,iter_=iter_,opt=my_optimizer,s=subsample))\n",
    "    if kill_fixed:\n",
    "        checkpointPath += '_zero_fixed'\n",
    "        \n",
    "    #if frac >= 1:# a fixed integer amount of filters.\n",
    "    #    checkpointPath += '_I'\n",
    "    if dataset != 'cifar10':\n",
    "        checkpointPath += '_C100'\n",
    "        \n",
    "    if fast_schedule:\n",
    "        checkpointPath += '_FS'        \n",
    "        \n",
    "    if train_only!='train_all':\n",
    "        checkpointPath += '_only_{}'.format(train_only)\n",
    "    if not learn_bn:\n",
    "        checkpointPath += '_no-bn'\n",
    "    if dim_slice != 0:\n",
    "        checkpointPath += '_DS_{}'.format(dim_slice)\n",
    "    return checkpointPath"
   ]
  },
  {
   "cell_type": "code",
   "execution_count": 14,
   "metadata": {},
   "outputs": [
    {
     "ename": "NameError",
     "evalue": "name 'opts_with_state' is not defined",
     "output_type": "error",
     "traceback": [
      "\u001b[0;31m---------------------------------------------------------------------------\u001b[0m",
      "\u001b[0;31mNameError\u001b[0m                                 Traceback (most recent call last)",
      "\u001b[0;32m<ipython-input-14-396a384c25d1>\u001b[0m in \u001b[0;36m<module>\u001b[0;34m()\u001b[0m\n\u001b[0;32m----> 1\u001b[0;31m \u001b[0mdf_state\u001b[0m\u001b[0;34m=\u001b[0m\u001b[0mpd\u001b[0m\u001b[0;34m.\u001b[0m\u001b[0mDataFrame\u001b[0m\u001b[0;34m(\u001b[0m\u001b[0mopts_with_state\u001b[0m\u001b[0;34m)\u001b[0m\u001b[0;34m\u001b[0m\u001b[0m\n\u001b[0m\u001b[1;32m      2\u001b[0m \u001b[0mdf_state\u001b[0m\u001b[0;34m[\u001b[0m\u001b[0mdf_state\u001b[0m\u001b[0;34m.\u001b[0m\u001b[0mok\u001b[0m\u001b[0;34m==\u001b[0m\u001b[0mFalse\u001b[0m\u001b[0;34m]\u001b[0m\u001b[0;34m\u001b[0m\u001b[0m\n",
      "\u001b[0;31mNameError\u001b[0m: name 'opts_with_state' is not defined"
     ]
    }
   ],
   "source": [
    "df_state=pd.DataFrame(opts_with_state)\n",
    "df_state[df_state.ok==False]"
   ]
  },
  {
   "cell_type": "code",
   "execution_count": 7,
   "metadata": {
    "collapsed": false
   },
   "outputs": [
    {
     "ename": "NameError",
     "evalue": "name 'df_state' is not defined",
     "output_type": "error",
     "traceback": [
      "\u001b[0;31m---------------------------------------------------------------------------\u001b[0m",
      "\u001b[0;31mNameError\u001b[0m                                 Traceback (most recent call last)",
      "\u001b[0;32m<ipython-input-7-a4675ad8ac04>\u001b[0m in \u001b[0;36m<module>\u001b[0;34m()\u001b[0m\n\u001b[0;32m----> 1\u001b[0;31m \u001b[0mdf_state\u001b[0m\u001b[0;34m[\u001b[0m\u001b[0mdf_state\u001b[0m\u001b[0;34m.\u001b[0m\u001b[0mok\u001b[0m\u001b[0;34m==\u001b[0m\u001b[0mFalse\u001b[0m\u001b[0;34m]\u001b[0m\u001b[0;34m.\u001b[0m\u001b[0mcount\u001b[0m\u001b[0;34m(\u001b[0m\u001b[0;34m)\u001b[0m\u001b[0;34m\u001b[0m\u001b[0m\n\u001b[0m",
      "\u001b[0;31mNameError\u001b[0m: name 'df_state' is not defined"
     ]
    }
   ],
   "source": [
    "df_state[df_state.ok==False].count()"
   ]
  },
  {
   "cell_type": "code",
   "execution_count": 8,
   "metadata": {
    "collapsed": true
   },
   "outputs": [
    {
     "ename": "NameError",
     "evalue": "name 'df_state' is not defined",
     "output_type": "error",
     "traceback": [
      "\u001b[0;31m---------------------------------------------------------------------------\u001b[0m",
      "\u001b[0;31mNameError\u001b[0m                                 Traceback (most recent call last)",
      "\u001b[0;32m<ipython-input-8-f3c55386431d>\u001b[0m in \u001b[0;36m<module>\u001b[0;34m()\u001b[0m\n\u001b[0;32m----> 1\u001b[0;31m \u001b[0mdf_state\u001b[0m\u001b[0;34m[\u001b[0m\u001b[0;34m(\u001b[0m\u001b[0mdf_state\u001b[0m\u001b[0;34m.\u001b[0m\u001b[0mdataset\u001b[0m\u001b[0;34m==\u001b[0m\u001b[0;34m'cifar10'\u001b[0m\u001b[0;34m)\u001b[0m \u001b[0;34m&\u001b[0m \u001b[0;34m(\u001b[0m\u001b[0mdf_state\u001b[0m\u001b[0;34m.\u001b[0m\u001b[0march\u001b[0m\u001b[0;34m==\u001b[0m\u001b[0;34m'wrn_partial'\u001b[0m\u001b[0;34m)\u001b[0m \u001b[0;34m&\u001b[0m \u001b[0;34m(\u001b[0m\u001b[0mdf_state\u001b[0m\u001b[0;34m.\u001b[0m\u001b[0mok\u001b[0m\u001b[0;34m==\u001b[0m\u001b[0mTrue\u001b[0m\u001b[0;34m)\u001b[0m\u001b[0;34m]\u001b[0m\u001b[0;34m\u001b[0m\u001b[0m\n\u001b[0m",
      "\u001b[0;31mNameError\u001b[0m: name 'df_state' is not defined"
     ]
    }
   ],
   "source": [
    "df_state[(df_state.dataset=='cifar10') & (df_state.arch=='wrn_partial') & (df_state.ok==True)]"
   ]
  },
  {
   "cell_type": "code",
   "execution_count": 9,
   "metadata": {
    "collapsed": true
   },
   "outputs": [
    {
     "ename": "NameError",
     "evalue": "name 'ddd' is not defined",
     "output_type": "error",
     "traceback": [
      "\u001b[0;31m---------------------------------------------------------------------------\u001b[0m",
      "\u001b[0;31mNameError\u001b[0m                                 Traceback (most recent call last)",
      "\u001b[0;32m<ipython-input-9-85bbcdddd9c0>\u001b[0m in \u001b[0;36m<module>\u001b[0;34m()\u001b[0m\n\u001b[0;32m----> 1\u001b[0;31m \u001b[0mdf\u001b[0m \u001b[0;34m=\u001b[0m \u001b[0mpd\u001b[0m\u001b[0;34m.\u001b[0m\u001b[0mDataFrame\u001b[0m\u001b[0;34m(\u001b[0m\u001b[0mddd\u001b[0m\u001b[0;34m)\u001b[0m\u001b[0;34m\u001b[0m\u001b[0m\n\u001b[0m",
      "\u001b[0;31mNameError\u001b[0m: name 'ddd' is not defined"
     ]
    }
   ],
   "source": [
    "df = pd.DataFrame(ddd)"
   ]
  },
  {
   "cell_type": "code",
   "execution_count": 10,
   "metadata": {},
   "outputs": [
    {
     "ename": "NameError",
     "evalue": "name 'df' is not defined",
     "output_type": "error",
     "traceback": [
      "\u001b[0;31m---------------------------------------------------------------------------\u001b[0m",
      "\u001b[0;31mNameError\u001b[0m                                 Traceback (most recent call last)",
      "\u001b[0;32m<ipython-input-10-59801223916a>\u001b[0m in \u001b[0;36m<module>\u001b[0;34m()\u001b[0m\n\u001b[0;32m----> 1\u001b[0;31m \u001b[0mdf\u001b[0m\u001b[0;34m[\u001b[0m\u001b[0mdf\u001b[0m\u001b[0;34m.\u001b[0m\u001b[0mdataset\u001b[0m\u001b[0;34m==\u001b[0m\u001b[0;34m'cifar100'\u001b[0m\u001b[0;34m]\u001b[0m\u001b[0;34m.\u001b[0m\u001b[0msort_values\u001b[0m\u001b[0;34m(\u001b[0m\u001b[0;34m'valid_acc'\u001b[0m\u001b[0;34m,\u001b[0m\u001b[0mascending\u001b[0m\u001b[0;34m=\u001b[0m\u001b[0mFalse\u001b[0m\u001b[0;34m)\u001b[0m\u001b[0;34m\u001b[0m\u001b[0m\n\u001b[0m",
      "\u001b[0;31mNameError\u001b[0m: name 'df' is not defined"
     ]
    }
   ],
   "source": [
    "df[df.dataset=='cifar100'].sort_values('valid_acc',ascending=False)"
   ]
  },
  {
   "cell_type": "code",
   "execution_count": 10,
   "metadata": {
    "collapsed": false
   },
   "outputs": [
    {
     "data": {
      "text/plain": [
       "96.1"
      ]
     },
     "execution_count": 10,
     "metadata": {},
     "output_type": "execute_result"
    }
   ],
   "source": [
    "df.valid_acc.max()"
   ]
  },
  {
   "cell_type": "code",
   "execution_count": 11,
   "metadata": {
    "collapsed": false
   },
   "outputs": [
    {
     "data": {
      "text/plain": [
       "104"
      ]
     },
     "execution_count": 11,
     "metadata": {},
     "output_type": "execute_result"
    }
   ],
   "source": [
    "len(df)"
   ]
  },
  {
   "cell_type": "code",
   "execution_count": 12,
   "metadata": {
    "collapsed": true
   },
   "outputs": [
    {
     "data": {
      "text/html": [
       "<div>\n",
       "<style scoped>\n",
       "    .dataframe tbody tr th:only-of-type {\n",
       "        vertical-align: middle;\n",
       "    }\n",
       "\n",
       "    .dataframe tbody tr th {\n",
       "        vertical-align: top;\n",
       "    }\n",
       "\n",
       "    .dataframe thead th {\n",
       "        text-align: right;\n",
       "    }\n",
       "</style>\n",
       "<table border=\"1\" class=\"dataframe\">\n",
       "  <thead>\n",
       "    <tr style=\"text-align: right;\">\n",
       "      <th></th>\n",
       "      <th>active_params</th>\n",
       "      <th>all_accs</th>\n",
       "      <th>arch</th>\n",
       "      <th>dataset</th>\n",
       "      <th>dim_slice</th>\n",
       "      <th>fast_schedule</th>\n",
       "      <th>frac</th>\n",
       "      <th>kill_fixed</th>\n",
       "      <th>learn_bn</th>\n",
       "      <th>optimizer</th>\n",
       "      <th>total_params</th>\n",
       "      <th>train_only</th>\n",
       "      <th>valid_acc</th>\n",
       "      <th>z</th>\n",
       "    </tr>\n",
       "  </thead>\n",
       "  <tbody>\n",
       "    <tr>\n",
       "      <th>85</th>\n",
       "      <td>35156</td>\n",
       "      <td>0       1.32\n",
       "1       1.88\n",
       "2       3.60\n",
       "3      ...</td>\n",
       "      <td>alexnet_partial</td>\n",
       "      <td>cifar100</td>\n",
       "      <td>0</td>\n",
       "      <td>False</td>\n",
       "      <td>1.0</td>\n",
       "      <td>False</td>\n",
       "      <td>True</td>\n",
       "      <td>sgd</td>\n",
       "      <td>2495396</td>\n",
       "      <td>train_all</td>\n",
       "      <td>17.20</td>\n",
       "      <td>1.408835</td>\n",
       "    </tr>\n",
       "    <tr>\n",
       "      <th>87</th>\n",
       "      <td>35156</td>\n",
       "      <td>0      1.0\n",
       "1      1.0\n",
       "2      1.0\n",
       "3      1.0\n",
       "4 ...</td>\n",
       "      <td>alexnet_partial</td>\n",
       "      <td>cifar100</td>\n",
       "      <td>0</td>\n",
       "      <td>False</td>\n",
       "      <td>1.0</td>\n",
       "      <td>True</td>\n",
       "      <td>True</td>\n",
       "      <td>sgd</td>\n",
       "      <td>2495396</td>\n",
       "      <td>train_all</td>\n",
       "      <td>1.00</td>\n",
       "      <td>1.408835</td>\n",
       "    </tr>\n",
       "    <tr>\n",
       "      <th>73</th>\n",
       "      <td>88399</td>\n",
       "      <td>0      14.61\n",
       "1      20.90\n",
       "2      24.93\n",
       "3      ...</td>\n",
       "      <td>densenet_partial</td>\n",
       "      <td>cifar100</td>\n",
       "      <td>0</td>\n",
       "      <td>False</td>\n",
       "      <td>1.0</td>\n",
       "      <td>False</td>\n",
       "      <td>True</td>\n",
       "      <td>sgd</td>\n",
       "      <td>800032</td>\n",
       "      <td>train_all</td>\n",
       "      <td>59.73</td>\n",
       "      <td>11.049433</td>\n",
       "    </tr>\n",
       "    <tr>\n",
       "      <th>75</th>\n",
       "      <td>88399</td>\n",
       "      <td>0       4.44\n",
       "1       6.96\n",
       "2       8.47\n",
       "3      ...</td>\n",
       "      <td>densenet_partial</td>\n",
       "      <td>cifar100</td>\n",
       "      <td>0</td>\n",
       "      <td>False</td>\n",
       "      <td>1.0</td>\n",
       "      <td>True</td>\n",
       "      <td>True</td>\n",
       "      <td>sgd</td>\n",
       "      <td>800032</td>\n",
       "      <td>train_all</td>\n",
       "      <td>19.24</td>\n",
       "      <td>11.049433</td>\n",
       "    </tr>\n",
       "    <tr>\n",
       "      <th>81</th>\n",
       "      <td>107279</td>\n",
       "      <td>0      10.92\n",
       "1      14.18\n",
       "2      15.89\n",
       "3      ...</td>\n",
       "      <td>vgg19_bn_partial</td>\n",
       "      <td>cifar100</td>\n",
       "      <td>0</td>\n",
       "      <td>False</td>\n",
       "      <td>1.0</td>\n",
       "      <td>False</td>\n",
       "      <td>True</td>\n",
       "      <td>sgd</td>\n",
       "      <td>20086692</td>\n",
       "      <td>train_all</td>\n",
       "      <td>41.02</td>\n",
       "      <td>0.534080</td>\n",
       "    </tr>\n",
       "    <tr>\n",
       "      <th>83</th>\n",
       "      <td>107279</td>\n",
       "      <td>0      2.44\n",
       "1      2.38\n",
       "2      2.67\n",
       "3      1.8...</td>\n",
       "      <td>vgg19_bn_partial</td>\n",
       "      <td>cifar100</td>\n",
       "      <td>0</td>\n",
       "      <td>False</td>\n",
       "      <td>1.0</td>\n",
       "      <td>True</td>\n",
       "      <td>True</td>\n",
       "      <td>sgd</td>\n",
       "      <td>20086692</td>\n",
       "      <td>train_all</td>\n",
       "      <td>3.44</td>\n",
       "      <td>0.534080</td>\n",
       "    </tr>\n",
       "    <tr>\n",
       "      <th>77</th>\n",
       "      <td>157599</td>\n",
       "      <td>0       3.75\n",
       "1       5.75\n",
       "2       5.26\n",
       "3      ...</td>\n",
       "      <td>wrn_partial</td>\n",
       "      <td>cifar100</td>\n",
       "      <td>0</td>\n",
       "      <td>False</td>\n",
       "      <td>1.0</td>\n",
       "      <td>False</td>\n",
       "      <td>True</td>\n",
       "      <td>sgd</td>\n",
       "      <td>36536884</td>\n",
       "      <td>train_all</td>\n",
       "      <td>34.85</td>\n",
       "      <td>0.431342</td>\n",
       "    </tr>\n",
       "    <tr>\n",
       "      <th>79</th>\n",
       "      <td>157599</td>\n",
       "      <td>0      1.97\n",
       "1      2.11\n",
       "2      2.35\n",
       "3      2.4...</td>\n",
       "      <td>wrn_partial</td>\n",
       "      <td>cifar100</td>\n",
       "      <td>0</td>\n",
       "      <td>False</td>\n",
       "      <td>1.0</td>\n",
       "      <td>True</td>\n",
       "      <td>True</td>\n",
       "      <td>sgd</td>\n",
       "      <td>36536884</td>\n",
       "      <td>train_all</td>\n",
       "      <td>3.43</td>\n",
       "      <td>0.431342</td>\n",
       "    </tr>\n",
       "  </tbody>\n",
       "</table>\n",
       "</div>"
      ],
      "text/plain": [
       "    active_params                                           all_accs  \\\n",
       "85          35156  0       1.32\n",
       "1       1.88\n",
       "2       3.60\n",
       "3      ...   \n",
       "87          35156  0      1.0\n",
       "1      1.0\n",
       "2      1.0\n",
       "3      1.0\n",
       "4 ...   \n",
       "73          88399  0      14.61\n",
       "1      20.90\n",
       "2      24.93\n",
       "3      ...   \n",
       "75          88399  0       4.44\n",
       "1       6.96\n",
       "2       8.47\n",
       "3      ...   \n",
       "81         107279  0      10.92\n",
       "1      14.18\n",
       "2      15.89\n",
       "3      ...   \n",
       "83         107279  0      2.44\n",
       "1      2.38\n",
       "2      2.67\n",
       "3      1.8...   \n",
       "77         157599  0       3.75\n",
       "1       5.75\n",
       "2       5.26\n",
       "3      ...   \n",
       "79         157599  0      1.97\n",
       "1      2.11\n",
       "2      2.35\n",
       "3      2.4...   \n",
       "\n",
       "                arch   dataset  dim_slice  fast_schedule  frac  kill_fixed  \\\n",
       "85   alexnet_partial  cifar100          0          False   1.0       False   \n",
       "87   alexnet_partial  cifar100          0          False   1.0        True   \n",
       "73  densenet_partial  cifar100          0          False   1.0       False   \n",
       "75  densenet_partial  cifar100          0          False   1.0        True   \n",
       "81  vgg19_bn_partial  cifar100          0          False   1.0       False   \n",
       "83  vgg19_bn_partial  cifar100          0          False   1.0        True   \n",
       "77       wrn_partial  cifar100          0          False   1.0       False   \n",
       "79       wrn_partial  cifar100          0          False   1.0        True   \n",
       "\n",
       "    learn_bn optimizer  total_params train_only  valid_acc          z  \n",
       "85      True       sgd       2495396  train_all      17.20   1.408835  \n",
       "87      True       sgd       2495396  train_all       1.00   1.408835  \n",
       "73      True       sgd        800032  train_all      59.73  11.049433  \n",
       "75      True       sgd        800032  train_all      19.24  11.049433  \n",
       "81      True       sgd      20086692  train_all      41.02   0.534080  \n",
       "83      True       sgd      20086692  train_all       3.44   0.534080  \n",
       "77      True       sgd      36536884  train_all      34.85   0.431342  \n",
       "79      True       sgd      36536884  train_all       3.43   0.431342  "
      ]
     },
     "execution_count": 12,
     "metadata": {},
     "output_type": "execute_result"
    }
   ],
   "source": [
    "df = pd.DataFrame(ddd)\n",
    "df = df[((df.frac==1) ) & (df.dataset=='cifar100')].sort_values('arch')\n",
    "df['z']=100*(df.active_params/df.total_params)\n",
    "df"
   ]
  },
  {
   "cell_type": "code",
   "execution_count": 13,
   "metadata": {},
   "outputs": [],
   "source": [
    "# plot performance vs fraction."
   ]
  },
  {
   "cell_type": "code",
   "execution_count": 14,
   "metadata": {},
   "outputs": [
    {
     "data": {
      "text/html": [
       "<div>\n",
       "<style scoped>\n",
       "    .dataframe tbody tr th:only-of-type {\n",
       "        vertical-align: middle;\n",
       "    }\n",
       "\n",
       "    .dataframe tbody tr th {\n",
       "        vertical-align: top;\n",
       "    }\n",
       "\n",
       "    .dataframe thead th {\n",
       "        text-align: right;\n",
       "    }\n",
       "</style>\n",
       "<table border=\"1\" class=\"dataframe\">\n",
       "  <thead>\n",
       "    <tr style=\"text-align: right;\">\n",
       "      <th></th>\n",
       "      <th>active_params</th>\n",
       "      <th>all_accs</th>\n",
       "      <th>arch</th>\n",
       "      <th>dataset</th>\n",
       "      <th>dim_slice</th>\n",
       "      <th>fast_schedule</th>\n",
       "      <th>frac</th>\n",
       "      <th>kill_fixed</th>\n",
       "      <th>learn_bn</th>\n",
       "      <th>optimizer</th>\n",
       "      <th>total_params</th>\n",
       "      <th>train_only</th>\n",
       "      <th>valid_acc</th>\n",
       "      <th>z</th>\n",
       "    </tr>\n",
       "  </thead>\n",
       "  <tbody>\n",
       "    <tr>\n",
       "      <th>85</th>\n",
       "      <td>35156</td>\n",
       "      <td>0       1.32\n",
       "1       1.88\n",
       "2       3.60\n",
       "3      ...</td>\n",
       "      <td>alexnet_partial</td>\n",
       "      <td>cifar100</td>\n",
       "      <td>0</td>\n",
       "      <td>False</td>\n",
       "      <td>1.0</td>\n",
       "      <td>False</td>\n",
       "      <td>True</td>\n",
       "      <td>sgd</td>\n",
       "      <td>2495396</td>\n",
       "      <td>train_all</td>\n",
       "      <td>17.2</td>\n",
       "      <td>1.408835</td>\n",
       "    </tr>\n",
       "    <tr>\n",
       "      <th>87</th>\n",
       "      <td>35156</td>\n",
       "      <td>0      1.0\n",
       "1      1.0\n",
       "2      1.0\n",
       "3      1.0\n",
       "4 ...</td>\n",
       "      <td>alexnet_partial</td>\n",
       "      <td>cifar100</td>\n",
       "      <td>0</td>\n",
       "      <td>False</td>\n",
       "      <td>1.0</td>\n",
       "      <td>True</td>\n",
       "      <td>True</td>\n",
       "      <td>sgd</td>\n",
       "      <td>2495396</td>\n",
       "      <td>train_all</td>\n",
       "      <td>1.0</td>\n",
       "      <td>1.408835</td>\n",
       "    </tr>\n",
       "  </tbody>\n",
       "</table>\n",
       "</div>"
      ],
      "text/plain": [
       "    active_params                                           all_accs  \\\n",
       "85          35156  0       1.32\n",
       "1       1.88\n",
       "2       3.60\n",
       "3      ...   \n",
       "87          35156  0      1.0\n",
       "1      1.0\n",
       "2      1.0\n",
       "3      1.0\n",
       "4 ...   \n",
       "\n",
       "               arch   dataset  dim_slice  fast_schedule  frac  kill_fixed  \\\n",
       "85  alexnet_partial  cifar100          0          False   1.0       False   \n",
       "87  alexnet_partial  cifar100          0          False   1.0        True   \n",
       "\n",
       "    learn_bn optimizer  total_params train_only  valid_acc         z  \n",
       "85      True       sgd       2495396  train_all       17.2  1.408835  \n",
       "87      True       sgd       2495396  train_all        1.0  1.408835  "
      ]
     },
     "execution_count": 14,
     "metadata": {},
     "output_type": "execute_result"
    }
   ],
   "source": [
    "df[df.arch=='alexnet_partial'].sort_values('valid_acc',ascending=False)"
   ]
  },
  {
   "cell_type": "code",
   "execution_count": 15,
   "metadata": {},
   "outputs": [
    {
     "data": {
      "text/html": [
       "<div>\n",
       "<style scoped>\n",
       "    .dataframe tbody tr th:only-of-type {\n",
       "        vertical-align: middle;\n",
       "    }\n",
       "\n",
       "    .dataframe tbody tr th {\n",
       "        vertical-align: top;\n",
       "    }\n",
       "\n",
       "    .dataframe thead th {\n",
       "        text-align: right;\n",
       "    }\n",
       "</style>\n",
       "<table border=\"1\" class=\"dataframe\">\n",
       "  <thead>\n",
       "    <tr style=\"text-align: right;\">\n",
       "      <th></th>\n",
       "      <th>active_params</th>\n",
       "      <th>all_accs</th>\n",
       "      <th>arch</th>\n",
       "      <th>dataset</th>\n",
       "      <th>dim_slice</th>\n",
       "      <th>fast_schedule</th>\n",
       "      <th>frac</th>\n",
       "      <th>kill_fixed</th>\n",
       "      <th>learn_bn</th>\n",
       "      <th>optimizer</th>\n",
       "      <th>total_params</th>\n",
       "      <th>train_only</th>\n",
       "      <th>valid_acc</th>\n",
       "    </tr>\n",
       "  </thead>\n",
       "  <tbody>\n",
       "    <tr>\n",
       "      <th>68</th>\n",
       "      <td>1727890</td>\n",
       "      <td>0      38.16\n",
       "1      47.37\n",
       "2      48.71\n",
       "3      ...</td>\n",
       "      <td>alexnet_partial</td>\n",
       "      <td>cifar10</td>\n",
       "      <td>0</td>\n",
       "      <td>False</td>\n",
       "      <td>0.7</td>\n",
       "      <td>False</td>\n",
       "      <td>True</td>\n",
       "      <td>sgd</td>\n",
       "      <td>2472266</td>\n",
       "      <td>train_all</td>\n",
       "      <td>75.26</td>\n",
       "    </tr>\n",
       "    <tr>\n",
       "      <th>36</th>\n",
       "      <td>20040522</td>\n",
       "      <td>0      11.10\n",
       "1      11.65\n",
       "2      25.81\n",
       "3      ...</td>\n",
       "      <td>vgg19_bn_partial</td>\n",
       "      <td>cifar10</td>\n",
       "      <td>0</td>\n",
       "      <td>False</td>\n",
       "      <td>-1.0</td>\n",
       "      <td>False</td>\n",
       "      <td>True</td>\n",
       "      <td>sgd</td>\n",
       "      <td>20040522</td>\n",
       "      <td>train_all</td>\n",
       "      <td>92.85</td>\n",
       "    </tr>\n",
       "    <tr>\n",
       "      <th>32</th>\n",
       "      <td>769162</td>\n",
       "      <td>0      56.76\n",
       "1      68.81\n",
       "2      74.09\n",
       "3      ...</td>\n",
       "      <td>densenet_partial</td>\n",
       "      <td>cifar10</td>\n",
       "      <td>0</td>\n",
       "      <td>False</td>\n",
       "      <td>-1.0</td>\n",
       "      <td>False</td>\n",
       "      <td>True</td>\n",
       "      <td>sgd</td>\n",
       "      <td>769162</td>\n",
       "      <td>train_all</td>\n",
       "      <td>95.35</td>\n",
       "    </tr>\n",
       "    <tr>\n",
       "      <th>34</th>\n",
       "      <td>36479194</td>\n",
       "      <td>0      52.08\n",
       "1      60.38\n",
       "2      62.54\n",
       "3      ...</td>\n",
       "      <td>wrn_partial</td>\n",
       "      <td>cifar10</td>\n",
       "      <td>0</td>\n",
       "      <td>False</td>\n",
       "      <td>-1.0</td>\n",
       "      <td>False</td>\n",
       "      <td>True</td>\n",
       "      <td>sgd</td>\n",
       "      <td>36479194</td>\n",
       "      <td>train_all</td>\n",
       "      <td>96.10</td>\n",
       "    </tr>\n",
       "  </tbody>\n",
       "</table>\n",
       "</div>"
      ],
      "text/plain": [
       "    active_params                                           all_accs  \\\n",
       "68        1727890  0      38.16\n",
       "1      47.37\n",
       "2      48.71\n",
       "3      ...   \n",
       "36       20040522  0      11.10\n",
       "1      11.65\n",
       "2      25.81\n",
       "3      ...   \n",
       "32         769162  0      56.76\n",
       "1      68.81\n",
       "2      74.09\n",
       "3      ...   \n",
       "34       36479194  0      52.08\n",
       "1      60.38\n",
       "2      62.54\n",
       "3      ...   \n",
       "\n",
       "                arch  dataset  dim_slice  fast_schedule  frac  kill_fixed  \\\n",
       "68   alexnet_partial  cifar10          0          False   0.7       False   \n",
       "36  vgg19_bn_partial  cifar10          0          False  -1.0       False   \n",
       "32  densenet_partial  cifar10          0          False  -1.0       False   \n",
       "34       wrn_partial  cifar10          0          False  -1.0       False   \n",
       "\n",
       "    learn_bn optimizer  total_params train_only  valid_acc  \n",
       "68      True       sgd       2472266  train_all      75.26  \n",
       "36      True       sgd      20040522  train_all      92.85  \n",
       "32      True       sgd        769162  train_all      95.35  \n",
       "34      True       sgd      36479194  train_all      96.10  "
      ]
     },
     "execution_count": 15,
     "metadata": {},
     "output_type": "execute_result"
    }
   ],
   "source": [
    "df = pd.DataFrame(ddd)\n",
    "df.loc[df.groupby('arch')['valid_acc'].idxmax()].sort_values('valid_acc')"
   ]
  },
  {
   "cell_type": "code",
   "execution_count": 15,
   "metadata": {
    "collapsed": false
   },
   "outputs": [
    {
     "ename": "NameError",
     "evalue": "name 'sns' is not defined",
     "output_type": "error",
     "traceback": [
      "\u001b[0;31m---------------------------------------------------------------------------\u001b[0m",
      "\u001b[0;31mNameError\u001b[0m                                 Traceback (most recent call last)",
      "\u001b[0;32m<ipython-input-15-b835a7ccc3bf>\u001b[0m in \u001b[0;36m<module>\u001b[0;34m()\u001b[0m\n\u001b[0;32m----> 1\u001b[0;31m \u001b[0msns\u001b[0m\u001b[0;34m.\u001b[0m\u001b[0mset_style\u001b[0m\u001b[0;34m(\u001b[0m\u001b[0;34m'ticks'\u001b[0m\u001b[0;34m)\u001b[0m\u001b[0;34m\u001b[0m\u001b[0m\n\u001b[0m\u001b[1;32m      2\u001b[0m \u001b[0msns\u001b[0m\u001b[0;34m.\u001b[0m\u001b[0mset_context\u001b[0m\u001b[0;34m(\u001b[0m\u001b[0;34m'paper'\u001b[0m\u001b[0;34m,\u001b[0m\u001b[0mfont_scale\u001b[0m\u001b[0;34m=\u001b[0m\u001b[0;36m2\u001b[0m\u001b[0;34m)\u001b[0m\u001b[0;34m\u001b[0m\u001b[0m\n\u001b[1;32m      3\u001b[0m \u001b[0mdf\u001b[0m \u001b[0;34m=\u001b[0m \u001b[0mpd\u001b[0m\u001b[0;34m.\u001b[0m\u001b[0mDataFrame\u001b[0m\u001b[0;34m(\u001b[0m\u001b[0mddd\u001b[0m\u001b[0;34m)\u001b[0m\u001b[0;34m\u001b[0m\u001b[0m\n\u001b[1;32m      4\u001b[0m \u001b[0;31m#df['frac'] = df['frac'].round(2)\u001b[0m\u001b[0;34m\u001b[0m\u001b[0;34m\u001b[0m\u001b[0m\n\u001b[1;32m      5\u001b[0m \u001b[0;31m#df=df[df.arch!='vgg19_partial']\u001b[0m\u001b[0;34m\u001b[0m\u001b[0;34m\u001b[0m\u001b[0m\n",
      "\u001b[0;31mNameError\u001b[0m: name 'sns' is not defined"
     ]
    }
   ],
   "source": [
    "sns.set_style('ticks')\n",
    "sns.set_context('paper',font_scale=2)\n",
    "df = pd.DataFrame(ddd)\n",
    "#df['frac'] = df['frac'].round(2)\n",
    "#df=df[df.arch!='vgg19_partial']\n",
    "df=df[df.optimizer=='sgd']\n",
    "#df['abs_filters']=df.frac>=1\n",
    "df.sort_values('frac')\n",
    "if LIMIT_EPOCHS != 1:    \n",
    "  #  df = df[df.frac>0]\n",
    "    df = df[df.learn_bn==True]\n",
    "    #df = df[df.arch=='wrn_partial']\n",
    "    \n",
    "    #df = df[df.arch.str.contains('wrn') | (df.arch.str.contains('dense'))]\n",
    "    #df = df[df.frac<1]\n",
    "    #df = df[df.frac>0]\n",
    "    #df = df[df.kill_fixed==False]  \n",
    "    #theHue = 'learn_bn' # kill_fixed\n",
    "    theHue = 'kill_fixed'\n",
    "else:\n",
    "    #df = df[df.frac>0]        \n",
    "    df = df[df.kill_fixed==False]\n",
    "    theHue = 'learn_bn'        \n",
    "#sns.factorplot(data=df,x='frac',y='valid_acc',hue='kill_fixed',col='arch')\n",
    "g=sns.factorplot(data=df,x='frac',y='valid_acc',col='dataset',hue='arch',legend_out=False)\n",
    "g.set_xticklabels(rotation=-50)\n",
    "axes_ = list(g.axes[0])\n",
    "theAlpha=.8\n",
    "ZZ = 5\n",
    "ZZ0 = -.5\n",
    "axes_[0].plot([ZZ0,ZZ],2*[96.2],color='g',linestyle='--',alpha=theAlpha)\n",
    "axes_[0].plot([ZZ0,ZZ],2*[100-4.54],color='blue',linestyle='--',alpha=theAlpha)\n",
    "\n",
    "axes_[1].plot([ZZ0,ZZ],2*[100- 18.14],color='g',linestyle='--',alpha=theAlpha)\n",
    "axes_[1].plot([ZZ0,ZZ],2*[100-22.88],color='blue',linestyle='--',alpha=theAlpha) #\n",
    "\n",
    "#axes_[1].plot([-1,9],2*[96.2],color='g',linestyle='--')\n",
    "#axes_[1].plot([-1,9],2*[100-4.54],color='r',linestyle='--')\n",
    "#suptitle(z.upper(),y=1)    \n",
    "#for ax in list(g.axes[0]):\n",
    "#    ax.add_patch(patches.Rectangle(xy=(6, 0), width=4, height=100,alpha=.1,color='k'))\n",
    "    #df = pd.DataFrame(ddd)\n",
    "    #z = df[(df.frac==-1) &(df.train_only=='train_all') & (df.learn_bn==True) & (df.kill_fixed==False) &\\\n",
    "    #      (df.dataset==z)]\n",
    "    #ax.plot([-1,9],2*[zs[iz]],color='k',linestyle='--')\n",
    "    #iz+=1\n",
    "       \n",
    "#savefig('/home/amir/Dropbox/publications/2018/icml2018_style/figures/frac_vs_perf_full_run.pdf')"
   ]
  },
  {
   "cell_type": "code",
   "execution_count": 17,
   "metadata": {},
   "outputs": [
    {
     "data": {
      "text/plain": [
       "55.21"
      ]
     },
     "execution_count": 17,
     "metadata": {},
     "output_type": "execute_result"
    }
   ],
   "source": [
    "100-df[(df.dataset=='cifar100') & (df.arch=='alexnet_partial')].valid_acc.max()"
   ]
  },
  {
   "cell_type": "code",
   "execution_count": 18,
   "metadata": {},
   "outputs": [
    {
     "ename": "NameError",
     "evalue": "name 'df1' is not defined",
     "output_type": "error",
     "traceback": [
      "\u001b[0;31m---------------------------------------------------------------------------\u001b[0m",
      "\u001b[0;31mNameError\u001b[0m                                 Traceback (most recent call last)",
      "\u001b[0;32m<ipython-input-18-d1257083cfaa>\u001b[0m in \u001b[0;36m<module>\u001b[0;34m()\u001b[0m\n\u001b[0;32m----> 1\u001b[0;31m \u001b[0mdf1\u001b[0m\u001b[0;34m.\u001b[0m\u001b[0mkeys\u001b[0m\u001b[0;34m(\u001b[0m\u001b[0;34m)\u001b[0m\u001b[0;34m\u001b[0m\u001b[0m\n\u001b[0m",
      "\u001b[0;31mNameError\u001b[0m: name 'df1' is not defined"
     ]
    }
   ],
   "source": [
    "df1.keys()"
   ]
  },
  {
   "cell_type": "code",
   "execution_count": null,
   "metadata": {},
   "outputs": [],
   "source": []
  },
  {
   "cell_type": "code",
   "execution_count": 19,
   "metadata": {},
   "outputs": [
    {
     "data": {
      "text/plain": [
       "(90, 100)"
      ]
     },
     "execution_count": 19,
     "metadata": {},
     "output_type": "execute_result"
    },
    {
     "data": {
      "image/png": "[encoded data removed]",
      "text/plain": [
       "<Figure size 432x288 with 1 Axes>"
      ]
     },
     "metadata": {},
     "output_type": "display_data"
    }
   ],
   "source": [
    "df1 = df[df.dataset=='cifar10']\n",
    "scatter(log10(df1.total_params),df1.valid_acc)\n",
    "ylim([90,100])"
   ]
  },
  {
   "cell_type": "code",
   "execution_count": 20,
   "metadata": {
    "collapsed": false
   },
   "outputs": [
    {
     "data": {
      "text/plain": [
       "<seaborn.axisgrid.FacetGrid at 0x7fb6156d5410>"
      ]
     },
     "execution_count": 20,
     "metadata": {},
     "output_type": "execute_result"
    },
    {
     "data": {
      "image/png": "[encoded data removed]",
      "text/plain": [
       "<Figure size 1251.33x288 with 4 Axes>"
      ]
     },
     "metadata": {},
     "output_type": "display_data"
    },
    {
     "data": {
      "image/png": "[encoded data removed]",
      "text/plain": [
       "<Figure size 1251.33x288 with 4 Axes>"
      ]
     },
     "metadata": {},
     "output_type": "display_data"
    }
   ],
   "source": [
    "sns.factorplot(data=df[df.dataset=='cifar10'],x='frac',y='valid_acc',col='arch',hue='kill_fixed')\n",
    "sns.factorplot(data=df[df.dataset=='cifar100'],x='frac',y='valid_acc',col='arch',hue='kill_fixed')"
   ]
  },
  {
   "cell_type": "code",
   "execution_count": 21,
   "metadata": {},
   "outputs": [
    {
     "ename": "SyntaxError",
     "evalue": "non-keyword arg after keyword arg (<ipython-input-21-36c46fd0254d>, line 1)",
     "output_type": "error",
     "traceback": [
      "\u001b[0;36m  File \u001b[0;32m\"<ipython-input-21-36c46fd0254d>\"\u001b[0;36m, line \u001b[0;32m1\u001b[0m\n\u001b[0;31m    df[(df.kill_fixed==True) & (df.dataset=='cifar10') & (df.arch=='wrn_partial')].plot(x='active_params',y='valid_acc',hue)\u001b[0m\n\u001b[0;31mSyntaxError\u001b[0m\u001b[0;31m:\u001b[0m non-keyword arg after keyword arg\n"
     ]
    }
   ],
   "source": [
    "df[(df.kill_fixed==True) & (df.dataset=='cifar10') & (df.arch=='wrn_partial')].plot(x='active_params',y='valid_acc',hue)"
   ]
  },
  {
   "cell_type": "code",
   "execution_count": null,
   "metadata": {
    "collapsed": false
   },
   "outputs": [],
   "source": [
    "g=sns.factorplot(data=df,x='frac',y='valid_acc',col='dataset',hue='arch',legend_out=False)\n"
   ]
  },
  {
   "cell_type": "code",
   "execution_count": 22,
   "metadata": {},
   "outputs": [
    {
     "ename": "SyntaxError",
     "evalue": "invalid syntax (<ipython-input-22-21e7bc3872e7>, line 3)",
     "output_type": "error",
     "traceback": [
      "\u001b[0;36m  File \u001b[0;32m\"<ipython-input-22-21e7bc3872e7>\"\u001b[0;36m, line \u001b[0;32m3\u001b[0m\n\u001b[0;31m    python cifar.py -a wideresnet --dataset small_imagenet --epochs 90 --schedule 31 61 --gamma 0.1 -c /home/amir/checkpoints/small_imagenet/wrn_full\u001b[0m\n\u001b[0m               ^\u001b[0m\n\u001b[0;31mSyntaxError\u001b[0m\u001b[0;31m:\u001b[0m invalid syntax\n"
     ]
    }
   ],
   "source": [
    "# train imagenet.\n",
    "# (wideresnet)\n",
    "python cifar.py -a wideresnet --dataset small_imagenet --epochs 80 --schedule 41 71 --gamma 0.1 --weight-decay 1e-4 -c /home/amir/checkpoints/small_imagenet/wrn_full_F --train-batch 128"
   ]
  },
  {
   "cell_type": "code",
   "execution_count": null,
   "metadata": {},
   "outputs": [],
   "source": []
  },
  {
   "cell_type": "code",
   "execution_count": null,
   "metadata": {},
   "outputs": [],
   "source": [
    "python cifar.py -a wideresnet_partial --part .1 --dataset small_imagenet --epochs 80 --schedule 41 71 --gamma 0.1 --weight-decay 1e-4 -c /home/amir/checkpoints/small_imagenet/wrn_partial_0.1 --train-batch 128"
   ]
  },
  {
   "cell_type": "code",
   "execution_count": null,
   "metadata": {},
   "outputs": [],
   "source": [
    "python cifar.py -a wideresnet_partial --part .1 --dataset small_imagenet --epochs 80 --schedule 41 71 --gamma 0.1 --weight-decay 1e-4 -c /home/amir/checkpoints/small_imagenet/wrn_partial_0.1_kill --train-batch 128 --zero-fixed-part True"
   ]
  },
  {
   "cell_type": "code",
   "execution_count": null,
   "metadata": {},
   "outputs": [],
   "source": [
    "python cifar.py -a wideresnet_partial --part .4 --dataset small_imagenet --epochs 80 --schedule 41 71 --gamma 0.1 --weight-decay 1e-4 -c /home/amir/checkpoints/small_imagenet/wrn_partial_0.4 --train-batch 128"
   ]
  },
  {
   "cell_type": "code",
   "execution_count": null,
   "metadata": {},
   "outputs": [],
   "source": []
  }
 ],
 "metadata": {
  "anaconda-cloud": {},
  "kernelspec": {
   "display_name": "Python 2",
   "language": "python",
   "name": "python2"
  },
  "language_info": {
   "codemirror_mode": {
    "name": "ipython",
    "version": 2
   },
   "file_extension": ".py",
   "mimetype": "text/x-python",
   "name": "python",
   "nbconvert_exporter": "python",
   "pygments_lexer": "ipython2",
   "version": "2.7.14"
  },
  "toc": {
   "colors": {
    "hover_highlight": "#DAA520",
    "running_highlight": "#FF0000",
    "selected_highlight": "#FFD700"
   },
   "moveMenuLeft": true,
   "nav_menu": {
    "height": "174px",
    "width": "317px"
   },
   "navigate_menu": true,
   "number_sections": true,
   "sideBar": true,
   "threshold": 4,
   "toc_cell": false,
   "toc_section_display": "block",
   "toc_window_display": false,
   "widenNotebook": false
  }
 },
 "nbformat": 4,
 "nbformat_minor": 2
}
